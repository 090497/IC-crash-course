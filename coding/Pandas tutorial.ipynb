{
 "cells": [
  {
   "cell_type": "code",
   "execution_count": 1,
   "metadata": {},
   "outputs": [],
   "source": [
    "import numpy  as np\n",
    "import pandas as pd\n",
    "\n",
    "from IPython.display import display\n",
    "\n",
    "from invisible_cities.io.dst_io import load_dst"
   ]
  },
  {
   "cell_type": "code",
   "execution_count": 2,
   "metadata": {},
   "outputs": [],
   "source": [
    "# Increase the number of displayed columns to 100\n",
    "pd.set_option(\"display.max_columns\", 100)"
   ]
  },
  {
   "cell_type": "markdown",
   "metadata": {},
   "source": [
    "# What are Series and dataframes"
   ]
  },
  {
   "cell_type": "markdown",
   "metadata": {},
   "source": [
    "Series are sequences with arbitrary indexing (usually called label). You may use an accumulative index (which will always be available)."
   ]
  },
  {
   "cell_type": "code",
   "execution_count": 3,
   "metadata": {},
   "outputs": [
    {
     "data": {
      "text/plain": [
       "0    0.212218\n",
       "1    0.820177\n",
       "2    0.352776\n",
       "3    0.586164\n",
       "4    0.664611\n",
       "5    0.978937\n",
       "6    0.293461\n",
       "7    0.300923\n",
       "8    0.709908\n",
       "9    0.006202\n",
       "dtype: float64"
      ]
     },
     "execution_count": 3,
     "metadata": {},
     "output_type": "execute_result"
    }
   ],
   "source": [
    "pd.Series(np.random.uniform(0, 1, 10)) # regular indexing"
   ]
  },
  {
   "cell_type": "code",
   "execution_count": 4,
   "metadata": {},
   "outputs": [
    {
     "data": {
      "text/plain": [
       "a    0.540050\n",
       "b    0.715063\n",
       "c    0.538731\n",
       "d    0.279913\n",
       "e    0.232281\n",
       "f    0.751260\n",
       "g    0.273586\n",
       "h    0.293249\n",
       "i    0.840400\n",
       "j    0.699869\n",
       "dtype: float64"
      ]
     },
     "execution_count": 4,
     "metadata": {},
     "output_type": "execute_result"
    }
   ],
   "source": [
    "pd.Series(np.random.uniform(0, 1, 10), index=list(\"abcdefghij\")) # regular indexing"
   ]
  },
  {
   "cell_type": "code",
   "execution_count": 5,
   "metadata": {},
   "outputs": [
    {
     "data": {
      "text/plain": [
       "2020-01-01    0.026543\n",
       "2020-01-02    0.206022\n",
       "2020-01-03    0.907431\n",
       "2020-01-04    0.357239\n",
       "2020-01-05    0.884242\n",
       "2020-01-06    0.685939\n",
       "2020-01-07    0.472974\n",
       "2020-01-08    0.272447\n",
       "2020-01-09    0.564410\n",
       "2020-01-10    0.041385\n",
       "Freq: D, dtype: float64"
      ]
     },
     "execution_count": 5,
     "metadata": {},
     "output_type": "execute_result"
    }
   ],
   "source": [
    "pd.Series(np.random.uniform(0, 1, 10), index=pd.date_range('2020-01-01', '2020-01-10')) # regular indexing"
   ]
  },
  {
   "cell_type": "markdown",
   "metadata": {},
   "source": [
    "A dataframe is a collection of Series with a common index. Both objects are essentially fancy tables."
   ]
  },
  {
   "cell_type": "code",
   "execution_count": 6,
   "metadata": {},
   "outputs": [
    {
     "data": {
      "text/html": [
       "<div>\n",
       "<style scoped>\n",
       "    .dataframe tbody tr th:only-of-type {\n",
       "        vertical-align: middle;\n",
       "    }\n",
       "\n",
       "    .dataframe tbody tr th {\n",
       "        vertical-align: top;\n",
       "    }\n",
       "\n",
       "    .dataframe thead th {\n",
       "        text-align: right;\n",
       "    }\n",
       "</style>\n",
       "<table border=\"1\" class=\"dataframe\">\n",
       "  <thead>\n",
       "    <tr style=\"text-align: right;\">\n",
       "      <th></th>\n",
       "      <th>A</th>\n",
       "      <th>B</th>\n",
       "      <th>C</th>\n",
       "      <th>D</th>\n",
       "    </tr>\n",
       "  </thead>\n",
       "  <tbody>\n",
       "    <tr>\n",
       "      <th>2020-01-01</th>\n",
       "      <td>0.675841</td>\n",
       "      <td>0.807193</td>\n",
       "      <td>0.428101</td>\n",
       "      <td>0.546683</td>\n",
       "    </tr>\n",
       "    <tr>\n",
       "      <th>2020-01-02</th>\n",
       "      <td>0.969917</td>\n",
       "      <td>0.700297</td>\n",
       "      <td>0.864586</td>\n",
       "      <td>0.028602</td>\n",
       "    </tr>\n",
       "    <tr>\n",
       "      <th>2020-01-03</th>\n",
       "      <td>0.619099</td>\n",
       "      <td>0.558840</td>\n",
       "      <td>0.726367</td>\n",
       "      <td>0.011983</td>\n",
       "    </tr>\n",
       "    <tr>\n",
       "      <th>2020-01-04</th>\n",
       "      <td>0.835058</td>\n",
       "      <td>0.861452</td>\n",
       "      <td>0.358718</td>\n",
       "      <td>0.463221</td>\n",
       "    </tr>\n",
       "    <tr>\n",
       "      <th>2020-01-05</th>\n",
       "      <td>0.918871</td>\n",
       "      <td>0.268245</td>\n",
       "      <td>0.831400</td>\n",
       "      <td>0.404796</td>\n",
       "    </tr>\n",
       "    <tr>\n",
       "      <th>2020-01-06</th>\n",
       "      <td>0.058361</td>\n",
       "      <td>0.952122</td>\n",
       "      <td>0.430613</td>\n",
       "      <td>0.325523</td>\n",
       "    </tr>\n",
       "    <tr>\n",
       "      <th>2020-01-07</th>\n",
       "      <td>0.488515</td>\n",
       "      <td>0.748222</td>\n",
       "      <td>0.267857</td>\n",
       "      <td>0.637535</td>\n",
       "    </tr>\n",
       "    <tr>\n",
       "      <th>2020-01-08</th>\n",
       "      <td>0.132286</td>\n",
       "      <td>0.163847</td>\n",
       "      <td>0.873642</td>\n",
       "      <td>0.427733</td>\n",
       "    </tr>\n",
       "    <tr>\n",
       "      <th>2020-01-09</th>\n",
       "      <td>0.420804</td>\n",
       "      <td>0.786272</td>\n",
       "      <td>0.832608</td>\n",
       "      <td>0.313158</td>\n",
       "    </tr>\n",
       "    <tr>\n",
       "      <th>2020-01-10</th>\n",
       "      <td>0.572801</td>\n",
       "      <td>0.313264</td>\n",
       "      <td>0.788345</td>\n",
       "      <td>0.452328</td>\n",
       "    </tr>\n",
       "  </tbody>\n",
       "</table>\n",
       "</div>"
      ],
      "text/plain": [
       "                   A         B         C         D\n",
       "2020-01-01  0.675841  0.807193  0.428101  0.546683\n",
       "2020-01-02  0.969917  0.700297  0.864586  0.028602\n",
       "2020-01-03  0.619099  0.558840  0.726367  0.011983\n",
       "2020-01-04  0.835058  0.861452  0.358718  0.463221\n",
       "2020-01-05  0.918871  0.268245  0.831400  0.404796\n",
       "2020-01-06  0.058361  0.952122  0.430613  0.325523\n",
       "2020-01-07  0.488515  0.748222  0.267857  0.637535\n",
       "2020-01-08  0.132286  0.163847  0.873642  0.427733\n",
       "2020-01-09  0.420804  0.786272  0.832608  0.313158\n",
       "2020-01-10  0.572801  0.313264  0.788345  0.452328"
      ]
     },
     "execution_count": 6,
     "metadata": {},
     "output_type": "execute_result"
    }
   ],
   "source": [
    "pd.DataFrame(np.random.uniform(0, 1, (10, 4)),\n",
    "             columns = list(\"ABCD\"),\n",
    "             index   = pd.date_range('2020-01-01', '2020-01-10')) # regular indexing"
   ]
  },
  {
   "cell_type": "markdown",
   "metadata": {},
   "source": [
    "# Building a Series"
   ]
  },
  {
   "cell_type": "code",
   "execution_count": 7,
   "metadata": {},
   "outputs": [
    {
     "data": {
      "text/plain": [
       "2020-01-01    0.399776\n",
       "2020-01-02    0.870127\n",
       "2020-01-03    0.812896\n",
       "2020-01-04    0.495983\n",
       "2020-01-05    0.548484\n",
       "2020-01-06    0.540679\n",
       "2020-01-07    0.450429\n",
       "2020-01-08    0.028334\n",
       "2020-01-09    0.324263\n",
       "2020-01-10    0.887123\n",
       "Freq: D, Name: Minutes worked, dtype: float64"
      ]
     },
     "execution_count": 7,
     "metadata": {},
     "output_type": "execute_result"
    }
   ],
   "source": [
    "series_0 = pd.Series(data  = np.random.uniform(0, 1, 10)              ,\n",
    "                     index = pd.date_range('2020-01-01', '2020-01-10'), # optional, default is regular indexing\n",
    "                     dtype = np.float                                 , # optional, default is inferred\n",
    "                     name  = \"Minutes worked\"                         ) # optional, defualt None\n",
    "series_0"
   ]
  },
  {
   "cell_type": "code",
   "execution_count": 8,
   "metadata": {},
   "outputs": [
    {
     "data": {
      "text/plain": [
       "A    0.379427\n",
       "B    0.773737\n",
       "C    0.077884\n",
       "D    0.885316\n",
       "E    0.521344\n",
       "F    0.993742\n",
       "G    0.382982\n",
       "H    0.742614\n",
       "I    0.945282\n",
       "J    0.771061\n",
       "Name: Letter affinity, dtype: float64"
      ]
     },
     "execution_count": 8,
     "metadata": {},
     "output_type": "execute_result"
    }
   ],
   "source": [
    "series_1 = pd.Series(data  = np.random.uniform(0, 1, 10),\n",
    "                     index = list(\"ABCDEFGHIJ\")         , # optional, default is regular indexing\n",
    "                     dtype = np.float                   , # optional, default is inferred\n",
    "                     name  = \"Letter affinity\"          ) # optional, defualt None\n",
    "series_1"
   ]
  },
  {
   "cell_type": "markdown",
   "metadata": {},
   "source": [
    "# Building a dataframe"
   ]
  },
  {
   "cell_type": "markdown",
   "metadata": {},
   "source": [
    "Probably the easiest manner is to use a dictionary to combine column names with data"
   ]
  },
  {
   "cell_type": "code",
   "execution_count": 67,
   "metadata": {},
   "outputs": [
    {
     "data": {
      "text/html": [
       "<div>\n",
       "<style scoped>\n",
       "    .dataframe tbody tr th:only-of-type {\n",
       "        vertical-align: middle;\n",
       "    }\n",
       "\n",
       "    .dataframe tbody tr th {\n",
       "        vertical-align: top;\n",
       "    }\n",
       "\n",
       "    .dataframe thead th {\n",
       "        text-align: right;\n",
       "    }\n",
       "</style>\n",
       "<table border=\"1\" class=\"dataframe\">\n",
       "  <thead>\n",
       "    <tr style=\"text-align: right;\">\n",
       "      <th></th>\n",
       "      <th>n</th>\n",
       "      <th>x</th>\n",
       "      <th>y</th>\n",
       "      <th>z</th>\n",
       "    </tr>\n",
       "  </thead>\n",
       "  <tbody>\n",
       "    <tr>\n",
       "      <th>A</th>\n",
       "      <td>0</td>\n",
       "      <td>-1.304686</td>\n",
       "      <td>1.469194</td>\n",
       "      <td>0.355725</td>\n",
       "    </tr>\n",
       "    <tr>\n",
       "      <th>B</th>\n",
       "      <td>5</td>\n",
       "      <td>-1.325811</td>\n",
       "      <td>1.471220</td>\n",
       "      <td>-0.650498</td>\n",
       "    </tr>\n",
       "    <tr>\n",
       "      <th>C</th>\n",
       "      <td>5</td>\n",
       "      <td>-1.931372</td>\n",
       "      <td>1.668060</td>\n",
       "      <td>0.513859</td>\n",
       "    </tr>\n",
       "    <tr>\n",
       "      <th>D</th>\n",
       "      <td>4</td>\n",
       "      <td>-1.744058</td>\n",
       "      <td>1.286778</td>\n",
       "      <td>0.235089</td>\n",
       "    </tr>\n",
       "    <tr>\n",
       "      <th>E</th>\n",
       "      <td>3</td>\n",
       "      <td>-1.158702</td>\n",
       "      <td>1.253674</td>\n",
       "      <td>1.369917</td>\n",
       "    </tr>\n",
       "    <tr>\n",
       "      <th>F</th>\n",
       "      <td>2</td>\n",
       "      <td>-1.843333</td>\n",
       "      <td>1.845640</td>\n",
       "      <td>-0.562510</td>\n",
       "    </tr>\n",
       "    <tr>\n",
       "      <th>G</th>\n",
       "      <td>6</td>\n",
       "      <td>-1.304873</td>\n",
       "      <td>1.032722</td>\n",
       "      <td>-0.087490</td>\n",
       "    </tr>\n",
       "    <tr>\n",
       "      <th>H</th>\n",
       "      <td>4</td>\n",
       "      <td>-1.684381</td>\n",
       "      <td>1.584054</td>\n",
       "      <td>-0.664299</td>\n",
       "    </tr>\n",
       "    <tr>\n",
       "      <th>I</th>\n",
       "      <td>2</td>\n",
       "      <td>-1.525103</td>\n",
       "      <td>1.644306</td>\n",
       "      <td>-1.258407</td>\n",
       "    </tr>\n",
       "    <tr>\n",
       "      <th>J</th>\n",
       "      <td>5</td>\n",
       "      <td>-1.848859</td>\n",
       "      <td>1.058591</td>\n",
       "      <td>-0.385586</td>\n",
       "    </tr>\n",
       "  </tbody>\n",
       "</table>\n",
       "</div>"
      ],
      "text/plain": [
       "   n         x         y         z\n",
       "A  0 -1.304686  1.469194  0.355725\n",
       "B  5 -1.325811  1.471220 -0.650498\n",
       "C  5 -1.931372  1.668060  0.513859\n",
       "D  4 -1.744058  1.286778  0.235089\n",
       "E  3 -1.158702  1.253674  1.369917\n",
       "F  2 -1.843333  1.845640 -0.562510\n",
       "G  6 -1.304873  1.032722 -0.087490\n",
       "H  4 -1.684381  1.584054 -0.664299\n",
       "I  2 -1.525103  1.644306 -1.258407\n",
       "J  5 -1.848859  1.058591 -0.385586"
      ]
     },
     "execution_count": 67,
     "metadata": {},
     "output_type": "execute_result"
    }
   ],
   "source": [
    "xyz_df_0 = pd.DataFrame(dict(n = np.random.poisson( 4,     10),\n",
    "                             x = np.random.uniform(-2, -1, 10),\n",
    "                             y = np.random.uniform( 1,  2, 10),\n",
    "                             z = np.random.normal ( 0,  1, 10)),\n",
    "                        index  = list(\"ABCDEFGHIJ\"))             # optional, defaults to regular indexing\n",
    "xyz_df_0"
   ]
  },
  {
   "cell_type": "markdown",
   "metadata": {},
   "source": [
    "Let's use a more realistic case and assume the index is something like an event number. We can attach a name to this index as well. Indices can repeat!"
   ]
  },
  {
   "cell_type": "code",
   "execution_count": 68,
   "metadata": {},
   "outputs": [
    {
     "data": {
      "text/html": [
       "<div>\n",
       "<style scoped>\n",
       "    .dataframe tbody tr th:only-of-type {\n",
       "        vertical-align: middle;\n",
       "    }\n",
       "\n",
       "    .dataframe tbody tr th {\n",
       "        vertical-align: top;\n",
       "    }\n",
       "\n",
       "    .dataframe thead th {\n",
       "        text-align: right;\n",
       "    }\n",
       "</style>\n",
       "<table border=\"1\" class=\"dataframe\">\n",
       "  <thead>\n",
       "    <tr style=\"text-align: right;\">\n",
       "      <th></th>\n",
       "      <th>n</th>\n",
       "      <th>x</th>\n",
       "      <th>y</th>\n",
       "      <th>z</th>\n",
       "    </tr>\n",
       "  </thead>\n",
       "  <tbody>\n",
       "    <tr>\n",
       "      <th>0</th>\n",
       "      <td>1</td>\n",
       "      <td>-1.905912</td>\n",
       "      <td>1.546298</td>\n",
       "      <td>-2.062060</td>\n",
       "    </tr>\n",
       "    <tr>\n",
       "      <th>0</th>\n",
       "      <td>2</td>\n",
       "      <td>-1.311056</td>\n",
       "      <td>1.805632</td>\n",
       "      <td>1.625085</td>\n",
       "    </tr>\n",
       "    <tr>\n",
       "      <th>0</th>\n",
       "      <td>0</td>\n",
       "      <td>-1.082180</td>\n",
       "      <td>1.086400</td>\n",
       "      <td>-1.763810</td>\n",
       "    </tr>\n",
       "    <tr>\n",
       "      <th>1</th>\n",
       "      <td>5</td>\n",
       "      <td>-1.298341</td>\n",
       "      <td>1.764000</td>\n",
       "      <td>-1.144081</td>\n",
       "    </tr>\n",
       "    <tr>\n",
       "      <th>1</th>\n",
       "      <td>5</td>\n",
       "      <td>-1.167679</td>\n",
       "      <td>1.488775</td>\n",
       "      <td>-0.069619</td>\n",
       "    </tr>\n",
       "    <tr>\n",
       "      <th>1</th>\n",
       "      <td>2</td>\n",
       "      <td>-1.054178</td>\n",
       "      <td>1.926256</td>\n",
       "      <td>-0.746532</td>\n",
       "    </tr>\n",
       "    <tr>\n",
       "      <th>4</th>\n",
       "      <td>4</td>\n",
       "      <td>-1.890491</td>\n",
       "      <td>1.448601</td>\n",
       "      <td>-0.529354</td>\n",
       "    </tr>\n",
       "    <tr>\n",
       "      <th>4</th>\n",
       "      <td>6</td>\n",
       "      <td>-1.196656</td>\n",
       "      <td>1.634814</td>\n",
       "      <td>-1.445950</td>\n",
       "    </tr>\n",
       "    <tr>\n",
       "      <th>4</th>\n",
       "      <td>4</td>\n",
       "      <td>-1.716060</td>\n",
       "      <td>1.123835</td>\n",
       "      <td>1.272805</td>\n",
       "    </tr>\n",
       "    <tr>\n",
       "      <th>4</th>\n",
       "      <td>2</td>\n",
       "      <td>-1.012853</td>\n",
       "      <td>1.900108</td>\n",
       "      <td>-1.299746</td>\n",
       "    </tr>\n",
       "  </tbody>\n",
       "</table>\n",
       "</div>"
      ],
      "text/plain": [
       "   n         x         y         z\n",
       "0  1 -1.905912  1.546298 -2.062060\n",
       "0  2 -1.311056  1.805632  1.625085\n",
       "0  0 -1.082180  1.086400 -1.763810\n",
       "1  5 -1.298341  1.764000 -1.144081\n",
       "1  5 -1.167679  1.488775 -0.069619\n",
       "1  2 -1.054178  1.926256 -0.746532\n",
       "4  4 -1.890491  1.448601 -0.529354\n",
       "4  6 -1.196656  1.634814 -1.445950\n",
       "4  4 -1.716060  1.123835  1.272805\n",
       "4  2 -1.012853  1.900108 -1.299746"
      ]
     },
     "execution_count": 68,
     "metadata": {},
     "output_type": "execute_result"
    }
   ],
   "source": [
    "xyz_df_1 = pd.DataFrame(dict(n = np.random.poisson( 4,     10),\n",
    "                             x = np.random.uniform(-2, -1, 10),\n",
    "                             y = np.random.uniform( 1,  2, 10),\n",
    "                             z = np.random.normal ( 0,  1, 10)),\n",
    "                        index  = [0] * 3 + [1] * 3 + [4] * 4   )\n",
    "\n",
    "xyz_df_1.index.name = \"event\"\n",
    "\n",
    "xyz_df_1"
   ]
  },
  {
   "cell_type": "markdown",
   "metadata": {},
   "source": [
    "The same can be done with `pd.Series`"
   ]
  },
  {
   "cell_type": "markdown",
   "metadata": {},
   "source": [
    "### Exercise 0"
   ]
  },
  {
   "cell_type": "markdown",
   "metadata": {},
   "source": [
    "Create two or three series (regular indexing). Join them in a dataframe. Each row should correspond to a different time in the same day"
   ]
  },
  {
   "cell_type": "code",
   "execution_count": null,
   "metadata": {},
   "outputs": [],
   "source": []
  },
  {
   "cell_type": "markdown",
   "metadata": {},
   "source": [
    "# Displaying a Series/DataFrame"
   ]
  },
  {
   "cell_type": "markdown",
   "metadata": {},
   "source": [
    "There are a few functionalities to play around with Series and DataFrames. These work for both"
   ]
  },
  {
   "cell_type": "code",
   "execution_count": 11,
   "metadata": {},
   "outputs": [
    {
     "data": {
      "text/html": [
       "<div>\n",
       "<style scoped>\n",
       "    .dataframe tbody tr th:only-of-type {\n",
       "        vertical-align: middle;\n",
       "    }\n",
       "\n",
       "    .dataframe tbody tr th {\n",
       "        vertical-align: top;\n",
       "    }\n",
       "\n",
       "    .dataframe thead th {\n",
       "        text-align: right;\n",
       "    }\n",
       "</style>\n",
       "<table border=\"1\" class=\"dataframe\">\n",
       "  <thead>\n",
       "    <tr style=\"text-align: right;\">\n",
       "      <th></th>\n",
       "      <th>x</th>\n",
       "      <th>y</th>\n",
       "      <th>z</th>\n",
       "    </tr>\n",
       "  </thead>\n",
       "  <tbody>\n",
       "    <tr>\n",
       "      <th>A</th>\n",
       "      <td>-1.688764</td>\n",
       "      <td>1.898075</td>\n",
       "      <td>0.692154</td>\n",
       "    </tr>\n",
       "    <tr>\n",
       "      <th>B</th>\n",
       "      <td>-1.885728</td>\n",
       "      <td>1.259110</td>\n",
       "      <td>0.304189</td>\n",
       "    </tr>\n",
       "    <tr>\n",
       "      <th>C</th>\n",
       "      <td>-1.270912</td>\n",
       "      <td>1.773814</td>\n",
       "      <td>-1.164984</td>\n",
       "    </tr>\n",
       "    <tr>\n",
       "      <th>D</th>\n",
       "      <td>-1.560103</td>\n",
       "      <td>1.029880</td>\n",
       "      <td>2.217780</td>\n",
       "    </tr>\n",
       "    <tr>\n",
       "      <th>E</th>\n",
       "      <td>-1.185825</td>\n",
       "      <td>1.585435</td>\n",
       "      <td>-0.265309</td>\n",
       "    </tr>\n",
       "  </tbody>\n",
       "</table>\n",
       "</div>"
      ],
      "text/plain": [
       "          x         y         z\n",
       "A -1.688764  1.898075  0.692154\n",
       "B -1.885728  1.259110  0.304189\n",
       "C -1.270912  1.773814 -1.164984\n",
       "D -1.560103  1.029880  2.217780\n",
       "E -1.185825  1.585435 -0.265309"
      ]
     },
     "execution_count": 11,
     "metadata": {},
     "output_type": "execute_result"
    }
   ],
   "source": [
    "xyz_df_0.head()"
   ]
  },
  {
   "cell_type": "code",
   "execution_count": 12,
   "metadata": {},
   "outputs": [
    {
     "data": {
      "text/html": [
       "<div>\n",
       "<style scoped>\n",
       "    .dataframe tbody tr th:only-of-type {\n",
       "        vertical-align: middle;\n",
       "    }\n",
       "\n",
       "    .dataframe tbody tr th {\n",
       "        vertical-align: top;\n",
       "    }\n",
       "\n",
       "    .dataframe thead th {\n",
       "        text-align: right;\n",
       "    }\n",
       "</style>\n",
       "<table border=\"1\" class=\"dataframe\">\n",
       "  <thead>\n",
       "    <tr style=\"text-align: right;\">\n",
       "      <th></th>\n",
       "      <th>x</th>\n",
       "      <th>y</th>\n",
       "      <th>z</th>\n",
       "    </tr>\n",
       "  </thead>\n",
       "  <tbody>\n",
       "    <tr>\n",
       "      <th>F</th>\n",
       "      <td>-1.847298</td>\n",
       "      <td>1.633904</td>\n",
       "      <td>-0.099170</td>\n",
       "    </tr>\n",
       "    <tr>\n",
       "      <th>G</th>\n",
       "      <td>-1.853815</td>\n",
       "      <td>1.806326</td>\n",
       "      <td>-0.917928</td>\n",
       "    </tr>\n",
       "    <tr>\n",
       "      <th>H</th>\n",
       "      <td>-1.311706</td>\n",
       "      <td>1.120622</td>\n",
       "      <td>0.304014</td>\n",
       "    </tr>\n",
       "    <tr>\n",
       "      <th>I</th>\n",
       "      <td>-1.973770</td>\n",
       "      <td>1.799369</td>\n",
       "      <td>-0.058456</td>\n",
       "    </tr>\n",
       "    <tr>\n",
       "      <th>J</th>\n",
       "      <td>-1.493037</td>\n",
       "      <td>1.431419</td>\n",
       "      <td>-0.784553</td>\n",
       "    </tr>\n",
       "  </tbody>\n",
       "</table>\n",
       "</div>"
      ],
      "text/plain": [
       "          x         y         z\n",
       "F -1.847298  1.633904 -0.099170\n",
       "G -1.853815  1.806326 -0.917928\n",
       "H -1.311706  1.120622  0.304014\n",
       "I -1.973770  1.799369 -0.058456\n",
       "J -1.493037  1.431419 -0.784553"
      ]
     },
     "execution_count": 12,
     "metadata": {},
     "output_type": "execute_result"
    }
   ],
   "source": [
    "xyz_df_0.tail()"
   ]
  },
  {
   "cell_type": "markdown",
   "metadata": {},
   "source": [
    "You can know the columns of a DataFrame as"
   ]
  },
  {
   "cell_type": "code",
   "execution_count": 13,
   "metadata": {},
   "outputs": [
    {
     "data": {
      "text/plain": [
       "Index(['x', 'y', 'z'], dtype='object')"
      ]
     },
     "execution_count": 13,
     "metadata": {},
     "output_type": "execute_result"
    }
   ],
   "source": [
    "xyz_df_0.columns"
   ]
  },
  {
   "cell_type": "markdown",
   "metadata": {},
   "source": [
    "And the shape (nrows, ncols) as"
   ]
  },
  {
   "cell_type": "code",
   "execution_count": 14,
   "metadata": {},
   "outputs": [
    {
     "data": {
      "text/plain": [
       "(10, 3)"
      ]
     },
     "execution_count": 14,
     "metadata": {},
     "output_type": "execute_result"
    }
   ],
   "source": [
    "xyz_df_0.shape"
   ]
  },
  {
   "cell_type": "markdown",
   "metadata": {},
   "source": [
    "# Statistics"
   ]
  },
  {
   "cell_type": "code",
   "execution_count": 15,
   "metadata": {},
   "outputs": [
    {
     "data": {
      "text/plain": [
       "count    10.000000\n",
       "mean      0.535809\n",
       "std       0.267045\n",
       "min       0.028334\n",
       "25%       0.412439\n",
       "50%       0.518331\n",
       "75%       0.746793\n",
       "max       0.887123\n",
       "Name: Minutes worked, dtype: float64"
      ]
     },
     "execution_count": 15,
     "metadata": {},
     "output_type": "execute_result"
    }
   ],
   "source": [
    "series_0.describe() # get a series that gives stat info about the data"
   ]
  },
  {
   "cell_type": "code",
   "execution_count": 16,
   "metadata": {},
   "outputs": [
    {
     "data": {
      "text/html": [
       "<div>\n",
       "<style scoped>\n",
       "    .dataframe tbody tr th:only-of-type {\n",
       "        vertical-align: middle;\n",
       "    }\n",
       "\n",
       "    .dataframe tbody tr th {\n",
       "        vertical-align: top;\n",
       "    }\n",
       "\n",
       "    .dataframe thead th {\n",
       "        text-align: right;\n",
       "    }\n",
       "</style>\n",
       "<table border=\"1\" class=\"dataframe\">\n",
       "  <thead>\n",
       "    <tr style=\"text-align: right;\">\n",
       "      <th></th>\n",
       "      <th>x</th>\n",
       "      <th>y</th>\n",
       "      <th>z</th>\n",
       "    </tr>\n",
       "  </thead>\n",
       "  <tbody>\n",
       "    <tr>\n",
       "      <th>count</th>\n",
       "      <td>10.000000</td>\n",
       "      <td>10.000000</td>\n",
       "      <td>10.000000</td>\n",
       "    </tr>\n",
       "    <tr>\n",
       "      <th>mean</th>\n",
       "      <td>-1.607096</td>\n",
       "      <td>1.533796</td>\n",
       "      <td>0.022774</td>\n",
       "    </tr>\n",
       "    <tr>\n",
       "      <th>std</th>\n",
       "      <td>0.284856</td>\n",
       "      <td>0.308829</td>\n",
       "      <td>0.970472</td>\n",
       "    </tr>\n",
       "    <tr>\n",
       "      <th>min</th>\n",
       "      <td>-1.973770</td>\n",
       "      <td>1.029880</td>\n",
       "      <td>-1.164984</td>\n",
       "    </tr>\n",
       "    <tr>\n",
       "      <th>25%</th>\n",
       "      <td>-1.852186</td>\n",
       "      <td>1.302187</td>\n",
       "      <td>-0.654742</td>\n",
       "    </tr>\n",
       "    <tr>\n",
       "      <th>50%</th>\n",
       "      <td>-1.624434</td>\n",
       "      <td>1.609670</td>\n",
       "      <td>-0.078813</td>\n",
       "    </tr>\n",
       "    <tr>\n",
       "      <th>75%</th>\n",
       "      <td>-1.357039</td>\n",
       "      <td>1.792980</td>\n",
       "      <td>0.304145</td>\n",
       "    </tr>\n",
       "    <tr>\n",
       "      <th>max</th>\n",
       "      <td>-1.185825</td>\n",
       "      <td>1.898075</td>\n",
       "      <td>2.217780</td>\n",
       "    </tr>\n",
       "  </tbody>\n",
       "</table>\n",
       "</div>"
      ],
      "text/plain": [
       "               x          y          z\n",
       "count  10.000000  10.000000  10.000000\n",
       "mean   -1.607096   1.533796   0.022774\n",
       "std     0.284856   0.308829   0.970472\n",
       "min    -1.973770   1.029880  -1.164984\n",
       "25%    -1.852186   1.302187  -0.654742\n",
       "50%    -1.624434   1.609670  -0.078813\n",
       "75%    -1.357039   1.792980   0.304145\n",
       "max    -1.185825   1.898075   2.217780"
      ]
     },
     "execution_count": 16,
     "metadata": {},
     "output_type": "execute_result"
    }
   ],
   "source": [
    "xyz_df_0.describe() # get a dataframe that gives stat info about each column"
   ]
  },
  {
   "cell_type": "code",
   "execution_count": 17,
   "metadata": {},
   "outputs": [
    {
     "name": "stdout",
     "output_type": "stream",
     "text": [
      "For series_0:\n",
      "mean = 0.5358093793809602\n",
      "std  = 0.2670446237863216\n",
      "min  = 0.028333890903901704\n",
      "max  = 0.8871225410700543\n",
      "half = 0.518331359827751\n",
      "len  = 10 = 10\n",
      "\n"
     ]
    }
   ],
   "source": [
    "print(f\"\"\"For series_0:\n",
    "mean = {series_0.mean()}\n",
    "std  = {series_0.std ()}\n",
    "min  = {series_0.min ()}\n",
    "max  = {series_0.max ()}\n",
    "half = {series_0.quantile(0.5)}\n",
    "len  = {series_0.count()} = {series_0.size}\n",
    "\"\"\")"
   ]
  },
  {
   "cell_type": "markdown",
   "metadata": {},
   "source": [
    "Same can be used for a dataframe, producing a Series with the value for each column"
   ]
  },
  {
   "cell_type": "code",
   "execution_count": 18,
   "metadata": {},
   "outputs": [
    {
     "data": {
      "text/plain": [
       "x   -1.607096\n",
       "y    1.533796\n",
       "z    0.022774\n",
       "dtype: float64"
      ]
     },
     "execution_count": 18,
     "metadata": {},
     "output_type": "execute_result"
    }
   ],
   "source": [
    "xyz_df_0.mean()"
   ]
  },
  {
   "cell_type": "markdown",
   "metadata": {},
   "source": [
    "# Indexing"
   ]
  },
  {
   "cell_type": "markdown",
   "metadata": {},
   "source": [
    "### By position or index/label"
   ]
  },
  {
   "cell_type": "code",
   "execution_count": 19,
   "metadata": {},
   "outputs": [
    {
     "data": {
      "text/plain": [
       "0.3794269877856471"
      ]
     },
     "execution_count": 19,
     "metadata": {},
     "output_type": "execute_result"
    }
   ],
   "source": [
    "series_1[\"A\"] # by label"
   ]
  },
  {
   "cell_type": "markdown",
   "metadata": {},
   "source": [
    "This works only for series. Dataframes interpret the argument as a column name"
   ]
  },
  {
   "cell_type": "code",
   "execution_count": 20,
   "metadata": {},
   "outputs": [
    {
     "name": "stdout",
     "output_type": "stream",
     "text": [
      "KeyError: 'A'\n"
     ]
    }
   ],
   "source": [
    "try:\n",
    "    xyz_df_0[\"A\"]\n",
    "except KeyError as error:\n",
    "    print(\"KeyError:\", error)"
   ]
  },
  {
   "cell_type": "code",
   "execution_count": 21,
   "metadata": {},
   "outputs": [
    {
     "data": {
      "text/plain": [
       "A   -1.688764\n",
       "B   -1.885728\n",
       "C   -1.270912\n",
       "D   -1.560103\n",
       "E   -1.185825\n",
       "F   -1.847298\n",
       "G   -1.853815\n",
       "H   -1.311706\n",
       "I   -1.973770\n",
       "J   -1.493037\n",
       "Name: x, dtype: float64"
      ]
     },
     "execution_count": 21,
     "metadata": {},
     "output_type": "execute_result"
    }
   ],
   "source": [
    "xyz_df_0[\"x\"] # This produces a Series"
   ]
  },
  {
   "cell_type": "markdown",
   "metadata": {},
   "source": [
    "`[]` is good for playing around, but you don't know if what you are getting is a copy or a view. For serious stuff it is better to use `loc` and `iloc`, which should be as fast (if not faster) and you are guaranteed to get a view (i.e. the same memory positions). This means that modifications to the object you get affect the original one."
   ]
  },
  {
   "cell_type": "code",
   "execution_count": 22,
   "metadata": {},
   "outputs": [
    {
     "data": {
      "text/plain": [
       "0.8853158219244455"
      ]
     },
     "execution_count": 22,
     "metadata": {},
     "output_type": "execute_result"
    }
   ],
   "source": [
    "series_1.loc[\"D\"] # by label"
   ]
  },
  {
   "cell_type": "code",
   "execution_count": 23,
   "metadata": {},
   "outputs": [
    {
     "data": {
      "text/plain": [
       "0.8853158219244455"
      ]
     },
     "execution_count": 23,
     "metadata": {},
     "output_type": "execute_result"
    }
   ],
   "source": [
    "series_1.iloc[3] # by position, i.e. row number"
   ]
  },
  {
   "cell_type": "code",
   "execution_count": 24,
   "metadata": {},
   "outputs": [
    {
     "data": {
      "text/plain": [
       "x   -1.560103\n",
       "y    1.029880\n",
       "z    2.217780\n",
       "Name: D, dtype: float64"
      ]
     },
     "execution_count": 24,
     "metadata": {},
     "output_type": "execute_result"
    }
   ],
   "source": [
    "xyz_df_0.loc[\"D\"] # by label"
   ]
  },
  {
   "cell_type": "code",
   "execution_count": 25,
   "metadata": {},
   "outputs": [
    {
     "data": {
      "text/plain": [
       "x   -1.560103\n",
       "y    1.029880\n",
       "z    2.217780\n",
       "Name: D, dtype: float64"
      ]
     },
     "execution_count": 25,
     "metadata": {},
     "output_type": "execute_result"
    }
   ],
   "source": [
    "xyz_df_0.iloc[3] # by position, i.e. row number"
   ]
  },
  {
   "cell_type": "markdown",
   "metadata": {},
   "source": [
    "These methods also work with arrays"
   ]
  },
  {
   "cell_type": "code",
   "execution_count": 26,
   "metadata": {},
   "outputs": [
    {
     "data": {
      "text/plain": [
       "2020-01-02    0.870127\n",
       "2020-01-06    0.540679\n",
       "2020-01-07    0.450429\n",
       "Name: Minutes worked, dtype: float64"
      ]
     },
     "execution_count": 26,
     "metadata": {},
     "output_type": "execute_result"
    }
   ],
   "source": [
    "series_0.iloc[[1, 5, 6]] # by position"
   ]
  },
  {
   "cell_type": "markdown",
   "metadata": {},
   "source": [
    "Or slices!"
   ]
  },
  {
   "cell_type": "code",
   "execution_count": 27,
   "metadata": {},
   "outputs": [
    {
     "data": {
      "text/plain": [
       "2020-01-04    0.495983\n",
       "2020-01-05    0.548484\n",
       "2020-01-06    0.540679\n",
       "Freq: D, Name: Minutes worked, dtype: float64"
      ]
     },
     "execution_count": 27,
     "metadata": {},
     "output_type": "execute_result"
    }
   ],
   "source": [
    "series_0.iloc[3:6]"
   ]
  },
  {
   "cell_type": "markdown",
   "metadata": {},
   "source": [
    "For dataframes, rows are columns can be selected simultaneously. Also, the indices or columns do not need to be in the same order as the df"
   ]
  },
  {
   "cell_type": "code",
   "execution_count": 28,
   "metadata": {},
   "outputs": [
    {
     "data": {
      "text/html": [
       "<div>\n",
       "<style scoped>\n",
       "    .dataframe tbody tr th:only-of-type {\n",
       "        vertical-align: middle;\n",
       "    }\n",
       "\n",
       "    .dataframe tbody tr th {\n",
       "        vertical-align: top;\n",
       "    }\n",
       "\n",
       "    .dataframe thead th {\n",
       "        text-align: right;\n",
       "    }\n",
       "</style>\n",
       "<table border=\"1\" class=\"dataframe\">\n",
       "  <thead>\n",
       "    <tr style=\"text-align: right;\">\n",
       "      <th></th>\n",
       "      <th>z</th>\n",
       "      <th>x</th>\n",
       "    </tr>\n",
       "  </thead>\n",
       "  <tbody>\n",
       "    <tr>\n",
       "      <th>E</th>\n",
       "      <td>-0.265309</td>\n",
       "      <td>-1.185825</td>\n",
       "    </tr>\n",
       "    <tr>\n",
       "      <th>A</th>\n",
       "      <td>0.692154</td>\n",
       "      <td>-1.688764</td>\n",
       "    </tr>\n",
       "    <tr>\n",
       "      <th>C</th>\n",
       "      <td>-1.164984</td>\n",
       "      <td>-1.270912</td>\n",
       "    </tr>\n",
       "  </tbody>\n",
       "</table>\n",
       "</div>"
      ],
      "text/plain": [
       "          z         x\n",
       "E -0.265309 -1.185825\n",
       "A  0.692154 -1.688764\n",
       "C -1.164984 -1.270912"
      ]
     },
     "execution_count": 28,
     "metadata": {},
     "output_type": "execute_result"
    }
   ],
   "source": [
    "xyz_df_0.loc[list(\"EAC\"), list(\"zx\")]"
   ]
  },
  {
   "cell_type": "markdown",
   "metadata": {},
   "source": [
    "Because `loc` returns a view, the original object can be modified. We use a slice range to modify one of the columns of the dataframe"
   ]
  },
  {
   "cell_type": "markdown",
   "metadata": {},
   "source": [
    "This is important when having to perform many operations on big dataframes, as the copy operations introduce a huge overhead"
   ]
  },
  {
   "cell_type": "code",
   "execution_count": 34,
   "metadata": {},
   "outputs": [
    {
     "data": {
      "text/html": [
       "<div>\n",
       "<style scoped>\n",
       "    .dataframe tbody tr th:only-of-type {\n",
       "        vertical-align: middle;\n",
       "    }\n",
       "\n",
       "    .dataframe tbody tr th {\n",
       "        vertical-align: top;\n",
       "    }\n",
       "\n",
       "    .dataframe thead th {\n",
       "        text-align: right;\n",
       "    }\n",
       "</style>\n",
       "<table border=\"1\" class=\"dataframe\">\n",
       "  <thead>\n",
       "    <tr style=\"text-align: right;\">\n",
       "      <th></th>\n",
       "      <th>x</th>\n",
       "      <th>y</th>\n",
       "      <th>z</th>\n",
       "    </tr>\n",
       "  </thead>\n",
       "  <tbody>\n",
       "    <tr>\n",
       "      <th>A</th>\n",
       "      <td>-1.688764</td>\n",
       "      <td>1.898075</td>\n",
       "      <td>0.692154</td>\n",
       "    </tr>\n",
       "    <tr>\n",
       "      <th>B</th>\n",
       "      <td>-1.885728</td>\n",
       "      <td>1.259110</td>\n",
       "      <td>0.304189</td>\n",
       "    </tr>\n",
       "    <tr>\n",
       "      <th>C</th>\n",
       "      <td>-1.270912</td>\n",
       "      <td>1.773814</td>\n",
       "      <td>-1.164984</td>\n",
       "    </tr>\n",
       "    <tr>\n",
       "      <th>D</th>\n",
       "      <td>-1.560103</td>\n",
       "      <td>1.029880</td>\n",
       "      <td>2.217780</td>\n",
       "    </tr>\n",
       "    <tr>\n",
       "      <th>E</th>\n",
       "      <td>-1.185825</td>\n",
       "      <td>1.585435</td>\n",
       "      <td>-0.265309</td>\n",
       "    </tr>\n",
       "    <tr>\n",
       "      <th>F</th>\n",
       "      <td>-1.847298</td>\n",
       "      <td>1.633904</td>\n",
       "      <td>-0.099170</td>\n",
       "    </tr>\n",
       "    <tr>\n",
       "      <th>G</th>\n",
       "      <td>-1.853815</td>\n",
       "      <td>1.806326</td>\n",
       "      <td>-0.917928</td>\n",
       "    </tr>\n",
       "    <tr>\n",
       "      <th>H</th>\n",
       "      <td>-1.311706</td>\n",
       "      <td>1.120622</td>\n",
       "      <td>0.304014</td>\n",
       "    </tr>\n",
       "    <tr>\n",
       "      <th>I</th>\n",
       "      <td>-1.973770</td>\n",
       "      <td>1.799369</td>\n",
       "      <td>-0.058456</td>\n",
       "    </tr>\n",
       "    <tr>\n",
       "      <th>J</th>\n",
       "      <td>-1.493037</td>\n",
       "      <td>1.431419</td>\n",
       "      <td>-0.784553</td>\n",
       "    </tr>\n",
       "  </tbody>\n",
       "</table>\n",
       "</div>"
      ],
      "text/plain": [
       "          x         y         z\n",
       "A -1.688764  1.898075  0.692154\n",
       "B -1.885728  1.259110  0.304189\n",
       "C -1.270912  1.773814 -1.164984\n",
       "D -1.560103  1.029880  2.217780\n",
       "E -1.185825  1.585435 -0.265309\n",
       "F -1.847298  1.633904 -0.099170\n",
       "G -1.853815  1.806326 -0.917928\n",
       "H -1.311706  1.120622  0.304014\n",
       "I -1.973770  1.799369 -0.058456\n",
       "J -1.493037  1.431419 -0.784553"
      ]
     },
     "execution_count": 34,
     "metadata": {},
     "output_type": "execute_result"
    }
   ],
   "source": [
    "xyz_df_2 = xyz_df_0.copy()\n",
    "xyz_df_2"
   ]
  },
  {
   "cell_type": "code",
   "execution_count": 35,
   "metadata": {},
   "outputs": [],
   "source": [
    "xyz_df_2.loc[\"D\":\"I\", \"y\"] *= 100"
   ]
  },
  {
   "cell_type": "code",
   "execution_count": 36,
   "metadata": {},
   "outputs": [
    {
     "data": {
      "text/html": [
       "<div>\n",
       "<style scoped>\n",
       "    .dataframe tbody tr th:only-of-type {\n",
       "        vertical-align: middle;\n",
       "    }\n",
       "\n",
       "    .dataframe tbody tr th {\n",
       "        vertical-align: top;\n",
       "    }\n",
       "\n",
       "    .dataframe thead th {\n",
       "        text-align: right;\n",
       "    }\n",
       "</style>\n",
       "<table border=\"1\" class=\"dataframe\">\n",
       "  <thead>\n",
       "    <tr style=\"text-align: right;\">\n",
       "      <th></th>\n",
       "      <th>x</th>\n",
       "      <th>y</th>\n",
       "      <th>z</th>\n",
       "    </tr>\n",
       "  </thead>\n",
       "  <tbody>\n",
       "    <tr>\n",
       "      <th>A</th>\n",
       "      <td>-1.688764</td>\n",
       "      <td>1.898075</td>\n",
       "      <td>0.692154</td>\n",
       "    </tr>\n",
       "    <tr>\n",
       "      <th>B</th>\n",
       "      <td>-1.885728</td>\n",
       "      <td>1.259110</td>\n",
       "      <td>0.304189</td>\n",
       "    </tr>\n",
       "    <tr>\n",
       "      <th>C</th>\n",
       "      <td>-1.270912</td>\n",
       "      <td>1.773814</td>\n",
       "      <td>-1.164984</td>\n",
       "    </tr>\n",
       "    <tr>\n",
       "      <th>D</th>\n",
       "      <td>-1.560103</td>\n",
       "      <td>102.987983</td>\n",
       "      <td>2.217780</td>\n",
       "    </tr>\n",
       "    <tr>\n",
       "      <th>E</th>\n",
       "      <td>-1.185825</td>\n",
       "      <td>158.543528</td>\n",
       "      <td>-0.265309</td>\n",
       "    </tr>\n",
       "    <tr>\n",
       "      <th>F</th>\n",
       "      <td>-1.847298</td>\n",
       "      <td>163.390446</td>\n",
       "      <td>-0.099170</td>\n",
       "    </tr>\n",
       "    <tr>\n",
       "      <th>G</th>\n",
       "      <td>-1.853815</td>\n",
       "      <td>180.632627</td>\n",
       "      <td>-0.917928</td>\n",
       "    </tr>\n",
       "    <tr>\n",
       "      <th>H</th>\n",
       "      <td>-1.311706</td>\n",
       "      <td>112.062235</td>\n",
       "      <td>0.304014</td>\n",
       "    </tr>\n",
       "    <tr>\n",
       "      <th>I</th>\n",
       "      <td>-1.973770</td>\n",
       "      <td>179.936903</td>\n",
       "      <td>-0.058456</td>\n",
       "    </tr>\n",
       "    <tr>\n",
       "      <th>J</th>\n",
       "      <td>-1.493037</td>\n",
       "      <td>1.431419</td>\n",
       "      <td>-0.784553</td>\n",
       "    </tr>\n",
       "  </tbody>\n",
       "</table>\n",
       "</div>"
      ],
      "text/plain": [
       "          x           y         z\n",
       "A -1.688764    1.898075  0.692154\n",
       "B -1.885728    1.259110  0.304189\n",
       "C -1.270912    1.773814 -1.164984\n",
       "D -1.560103  102.987983  2.217780\n",
       "E -1.185825  158.543528 -0.265309\n",
       "F -1.847298  163.390446 -0.099170\n",
       "G -1.853815  180.632627 -0.917928\n",
       "H -1.311706  112.062235  0.304014\n",
       "I -1.973770  179.936903 -0.058456\n",
       "J -1.493037    1.431419 -0.784553"
      ]
     },
     "execution_count": 36,
     "metadata": {},
     "output_type": "execute_result"
    }
   ],
   "source": [
    "xyz_df_2"
   ]
  },
  {
   "cell_type": "markdown",
   "metadata": {},
   "source": [
    "### Indexing with default value"
   ]
  },
  {
   "cell_type": "code",
   "execution_count": 39,
   "metadata": {},
   "outputs": [
    {
     "data": {
      "text/plain": [
       "0.3794269877856471"
      ]
     },
     "execution_count": 39,
     "metadata": {},
     "output_type": "execute_result"
    }
   ],
   "source": [
    "series_1.get(\"A\", np.nan) # Exists, returns value"
   ]
  },
  {
   "cell_type": "code",
   "execution_count": 40,
   "metadata": {},
   "outputs": [
    {
     "data": {
      "text/plain": [
       "nan"
      ]
     },
     "execution_count": 40,
     "metadata": {},
     "output_type": "execute_result"
    }
   ],
   "source": [
    "series_1.get(\"dog\", np.nan) # Does not exist, returns default"
   ]
  },
  {
   "cell_type": "markdown",
   "metadata": {},
   "source": [
    "### Indexing with row-column pairs"
   ]
  },
  {
   "cell_type": "code",
   "execution_count": 41,
   "metadata": {},
   "outputs": [
    {
     "data": {
      "text/plain": [
       "array([-1.6887641 , -1.27091231,  1.79936903,  0.30401436,  0.30418891])"
      ]
     },
     "execution_count": 41,
     "metadata": {},
     "output_type": "execute_result"
    }
   ],
   "source": [
    "xyz_df_0.lookup([\"A\", \"C\", \"I\", \"H\", \"B\"], ['x', 'x', 'y', 'z', 'z'])\n",
    "# Take x from row A\n",
    "# Take x from row C\n",
    "# Take y from row I\n",
    "# Take z from row H\n",
    "# Take z from row B"
   ]
  },
  {
   "cell_type": "markdown",
   "metadata": {},
   "source": [
    "### Fast single-element indexing"
   ]
  },
  {
   "cell_type": "markdown",
   "metadata": {},
   "source": [
    "This method should only be used for accessing a reduced number of elements. Long iterations using this method are very (very) slow."
   ]
  },
  {
   "cell_type": "code",
   "execution_count": 45,
   "metadata": {},
   "outputs": [
    {
     "data": {
      "text/plain": [
       "(0.5213441442928834, 0.5213441442928834)"
      ]
     },
     "execution_count": 45,
     "metadata": {},
     "output_type": "execute_result"
    }
   ],
   "source": [
    "series_1.iat[4], series_1.at[\"E\"] # position and index"
   ]
  },
  {
   "cell_type": "code",
   "execution_count": 47,
   "metadata": {},
   "outputs": [
    {
     "data": {
      "text/plain": [
       "(-0.26530935942910505, -0.26530935942910505)"
      ]
     },
     "execution_count": 47,
     "metadata": {},
     "output_type": "execute_result"
    }
   ],
   "source": [
    "xyz_df_0.iat[4, 2], xyz_df_0.at[\"E\", \"z\"]"
   ]
  },
  {
   "cell_type": "markdown",
   "metadata": {},
   "source": [
    "### Selection by booleans"
   ]
  },
  {
   "cell_type": "markdown",
   "metadata": {},
   "source": [
    "Essentially the same as for numpy"
   ]
  },
  {
   "cell_type": "code",
   "execution_count": 64,
   "metadata": {},
   "outputs": [
    {
     "data": {
      "text/plain": [
       "2020-01-02    0.870127\n",
       "2020-01-03    0.812896\n",
       "2020-01-05    0.548484\n",
       "2020-01-06    0.540679\n",
       "2020-01-10    0.887123\n",
       "Name: Minutes worked, dtype: float64"
      ]
     },
     "execution_count": 64,
     "metadata": {},
     "output_type": "execute_result"
    }
   ],
   "source": [
    "mask = series_0 > 0.5\n",
    "series_0[mask]"
   ]
  },
  {
   "cell_type": "code",
   "execution_count": 61,
   "metadata": {},
   "outputs": [],
   "source": [
    "mask  = xyz_df_0.x > -1.5\n",
    "mask &= xyz_df_0.y <  1.5\n",
    "mask &= xyz_df_0.z > xyz_df_0.z.quantile(0.5)"
   ]
  },
  {
   "cell_type": "code",
   "execution_count": 62,
   "metadata": {},
   "outputs": [
    {
     "data": {
      "text/html": [
       "<div>\n",
       "<style scoped>\n",
       "    .dataframe tbody tr th:only-of-type {\n",
       "        vertical-align: middle;\n",
       "    }\n",
       "\n",
       "    .dataframe tbody tr th {\n",
       "        vertical-align: top;\n",
       "    }\n",
       "\n",
       "    .dataframe thead th {\n",
       "        text-align: right;\n",
       "    }\n",
       "</style>\n",
       "<table border=\"1\" class=\"dataframe\">\n",
       "  <thead>\n",
       "    <tr style=\"text-align: right;\">\n",
       "      <th></th>\n",
       "      <th>x</th>\n",
       "      <th>y</th>\n",
       "      <th>z</th>\n",
       "    </tr>\n",
       "  </thead>\n",
       "  <tbody>\n",
       "    <tr>\n",
       "      <th>H</th>\n",
       "      <td>-1.311706</td>\n",
       "      <td>1.120622</td>\n",
       "      <td>0.304014</td>\n",
       "    </tr>\n",
       "  </tbody>\n",
       "</table>\n",
       "</div>"
      ],
      "text/plain": [
       "          x         y         z\n",
       "H -1.311706  1.120622  0.304014"
      ]
     },
     "execution_count": 62,
     "metadata": {},
     "output_type": "execute_result"
    }
   ],
   "source": [
    "xyz_df_0[mask] # This is a copy! Use loc to avoid it"
   ]
  },
  {
   "cell_type": "markdown",
   "metadata": {},
   "source": [
    "### Selection by query"
   ]
  },
  {
   "cell_type": "markdown",
   "metadata": {},
   "source": [
    "This method is not of common use. In words of the developers:\n",
    "```\n",
    "A use case for query() is when you have a collection of DataFrame objects that have a subset of column      names (or index levels/names) in common. You can pass the same query to both frames without having to      specify which frame you’re interested in querying\n",
    "```\n",
    "Which is not a frequent scenario. Avoid using it unless you find yourself doing something like this."
   ]
  },
  {
   "cell_type": "code",
   "execution_count": 66,
   "metadata": {},
   "outputs": [
    {
     "data": {
      "text/html": [
       "<div>\n",
       "<style scoped>\n",
       "    .dataframe tbody tr th:only-of-type {\n",
       "        vertical-align: middle;\n",
       "    }\n",
       "\n",
       "    .dataframe tbody tr th {\n",
       "        vertical-align: top;\n",
       "    }\n",
       "\n",
       "    .dataframe thead th {\n",
       "        text-align: right;\n",
       "    }\n",
       "</style>\n",
       "<table border=\"1\" class=\"dataframe\">\n",
       "  <thead>\n",
       "    <tr style=\"text-align: right;\">\n",
       "      <th></th>\n",
       "      <th>x</th>\n",
       "      <th>y</th>\n",
       "      <th>z</th>\n",
       "    </tr>\n",
       "  </thead>\n",
       "  <tbody>\n",
       "    <tr>\n",
       "      <th>A</th>\n",
       "      <td>-1.688764</td>\n",
       "      <td>1.898075</td>\n",
       "      <td>0.692154</td>\n",
       "    </tr>\n",
       "  </tbody>\n",
       "</table>\n",
       "</div>"
      ],
      "text/plain": [
       "          x         y         z\n",
       "A -1.688764  1.898075  0.692154"
      ]
     },
     "execution_count": 66,
     "metadata": {},
     "output_type": "execute_result"
    }
   ],
   "source": [
    "quantile = xyz_df_0.z.quantile(0.6)\n",
    "xyz_df_0.query(f\"x < -1.5 & y > 1.5 & z > {quantile}\")"
   ]
  },
  {
   "cell_type": "markdown",
   "metadata": {},
   "source": [
    "### Useful functions for selections"
   ]
  },
  {
   "cell_type": "code",
   "execution_count": 69,
   "metadata": {},
   "outputs": [
    {
     "data": {
      "text/plain": [
       "A    False\n",
       "B     True\n",
       "C     True\n",
       "D     True\n",
       "E    False\n",
       "F    False\n",
       "G    False\n",
       "H     True\n",
       "I    False\n",
       "J     True\n",
       "Name: n, dtype: bool"
      ]
     },
     "execution_count": 69,
     "metadata": {},
     "output_type": "execute_result"
    }
   ],
   "source": [
    "xyz_df_0.n.isin([4, 5]) # True if value is in the provided list, False otherwise"
   ]
  },
  {
   "cell_type": "code",
   "execution_count": 74,
   "metadata": {},
   "outputs": [
    {
     "data": {
      "text/plain": [
       "2020-01-01    False\n",
       "2020-01-02    False\n",
       "2020-01-03    False\n",
       "2020-01-04     True\n",
       "2020-01-05    False\n",
       "2020-01-06    False\n",
       "2020-01-07     True\n",
       "2020-01-08    False\n",
       "2020-01-09    False\n",
       "2020-01-10     True\n",
       "Freq: D, Name: Minutes worked, dtype: bool"
      ]
     },
     "execution_count": 74,
     "metadata": {},
     "output_type": "execute_result"
    }
   ],
   "source": [
    "series_2 = series_0.copy()\n",
    "series_2.iloc[3::3] = np.nan\n",
    "series_2.isna() # True if value is a NaN They can also be dropped with series.dropna()"
   ]
  },
  {
   "cell_type": "code",
   "execution_count": 76,
   "metadata": {},
   "outputs": [
    {
     "data": {
      "text/plain": [
       "A    False\n",
       "B    False\n",
       "C     True\n",
       "D    False\n",
       "E    False\n",
       "F    False\n",
       "G    False\n",
       "H     True\n",
       "I     True\n",
       "J     True\n",
       "Name: n, dtype: bool"
      ]
     },
     "execution_count": 76,
     "metadata": {},
     "output_type": "execute_result"
    }
   ],
   "source": [
    "xyz_df_0.n.duplicated()\n",
    "# True if the is duplicated. Default is to mark as duplicated only 2nd, 3rd, ... occurrences\n",
    "# Check docs for other options"
   ]
  },
  {
   "cell_type": "markdown",
   "metadata": {},
   "source": [
    "# Sampling"
   ]
  },
  {
   "cell_type": "markdown",
   "metadata": {},
   "source": [
    "We can take samples from a series"
   ]
  },
  {
   "cell_type": "code",
   "execution_count": 77,
   "metadata": {},
   "outputs": [
    {
     "data": {
      "text/plain": [
       "2020-01-10    0.887123\n",
       "Freq: D, Name: Minutes worked, dtype: float64"
      ]
     },
     "execution_count": 77,
     "metadata": {},
     "output_type": "execute_result"
    }
   ],
   "source": [
    "series_0.sample()"
   ]
  },
  {
   "cell_type": "markdown",
   "metadata": {},
   "source": [
    "Or many at a time"
   ]
  },
  {
   "cell_type": "code",
   "execution_count": 79,
   "metadata": {},
   "outputs": [
    {
     "data": {
      "text/html": [
       "<div>\n",
       "<style scoped>\n",
       "    .dataframe tbody tr th:only-of-type {\n",
       "        vertical-align: middle;\n",
       "    }\n",
       "\n",
       "    .dataframe tbody tr th {\n",
       "        vertical-align: top;\n",
       "    }\n",
       "\n",
       "    .dataframe thead th {\n",
       "        text-align: right;\n",
       "    }\n",
       "</style>\n",
       "<table border=\"1\" class=\"dataframe\">\n",
       "  <thead>\n",
       "    <tr style=\"text-align: right;\">\n",
       "      <th></th>\n",
       "      <th>n</th>\n",
       "      <th>x</th>\n",
       "      <th>y</th>\n",
       "      <th>z</th>\n",
       "    </tr>\n",
       "  </thead>\n",
       "  <tbody>\n",
       "    <tr>\n",
       "      <th>G</th>\n",
       "      <td>6</td>\n",
       "      <td>-1.304873</td>\n",
       "      <td>1.032722</td>\n",
       "      <td>-0.087490</td>\n",
       "    </tr>\n",
       "    <tr>\n",
       "      <th>E</th>\n",
       "      <td>3</td>\n",
       "      <td>-1.158702</td>\n",
       "      <td>1.253674</td>\n",
       "      <td>1.369917</td>\n",
       "    </tr>\n",
       "    <tr>\n",
       "      <th>D</th>\n",
       "      <td>4</td>\n",
       "      <td>-1.744058</td>\n",
       "      <td>1.286778</td>\n",
       "      <td>0.235089</td>\n",
       "    </tr>\n",
       "  </tbody>\n",
       "</table>\n",
       "</div>"
      ],
      "text/plain": [
       "   n         x         y         z\n",
       "G  6 -1.304873  1.032722 -0.087490\n",
       "E  3 -1.158702  1.253674  1.369917\n",
       "D  4 -1.744058  1.286778  0.235089"
      ]
     },
     "execution_count": 79,
     "metadata": {},
     "output_type": "execute_result"
    }
   ],
   "source": [
    "xyz_df_0.sample(3)"
   ]
  },
  {
   "cell_type": "markdown",
   "metadata": {},
   "source": [
    "Or a fraction of the total"
   ]
  },
  {
   "cell_type": "code",
   "execution_count": 81,
   "metadata": {},
   "outputs": [
    {
     "data": {
      "text/plain": [
       "B    0.773737\n",
       "G    0.382982\n",
       "D    0.885316\n",
       "Name: Letter affinity, dtype: float64"
      ]
     },
     "execution_count": 81,
     "metadata": {},
     "output_type": "execute_result"
    }
   ],
   "source": [
    "series_1.sample(frac=0.334)"
   ]
  },
  {
   "cell_type": "markdown",
   "metadata": {},
   "source": [
    "# Combining data"
   ]
  },
  {
   "cell_type": "markdown",
   "metadata": {},
   "source": [
    "### Row-wise"
   ]
  },
  {
   "cell_type": "code",
   "execution_count": 85,
   "metadata": {},
   "outputs": [
    {
     "data": {
      "text/html": [
       "<div>\n",
       "<style scoped>\n",
       "    .dataframe tbody tr th:only-of-type {\n",
       "        vertical-align: middle;\n",
       "    }\n",
       "\n",
       "    .dataframe tbody tr th {\n",
       "        vertical-align: top;\n",
       "    }\n",
       "\n",
       "    .dataframe thead th {\n",
       "        text-align: right;\n",
       "    }\n",
       "</style>\n",
       "<table border=\"1\" class=\"dataframe\">\n",
       "  <thead>\n",
       "    <tr style=\"text-align: right;\">\n",
       "      <th></th>\n",
       "      <th>n</th>\n",
       "      <th>x</th>\n",
       "      <th>y</th>\n",
       "      <th>z</th>\n",
       "    </tr>\n",
       "  </thead>\n",
       "  <tbody>\n",
       "    <tr>\n",
       "      <th>A</th>\n",
       "      <td>0</td>\n",
       "      <td>-1.304686</td>\n",
       "      <td>1.469194</td>\n",
       "      <td>0.355725</td>\n",
       "    </tr>\n",
       "    <tr>\n",
       "      <th>B</th>\n",
       "      <td>5</td>\n",
       "      <td>-1.325811</td>\n",
       "      <td>1.471220</td>\n",
       "      <td>-0.650498</td>\n",
       "    </tr>\n",
       "    <tr>\n",
       "      <th>C</th>\n",
       "      <td>5</td>\n",
       "      <td>-1.931372</td>\n",
       "      <td>1.668060</td>\n",
       "      <td>0.513859</td>\n",
       "    </tr>\n",
       "  </tbody>\n",
       "</table>\n",
       "</div>"
      ],
      "text/plain": [
       "   n         x         y         z\n",
       "A  0 -1.304686  1.469194  0.355725\n",
       "B  5 -1.325811  1.471220 -0.650498\n",
       "C  5 -1.931372  1.668060  0.513859"
      ]
     },
     "metadata": {},
     "output_type": "display_data"
    },
    {
     "data": {
      "text/html": [
       "<div>\n",
       "<style scoped>\n",
       "    .dataframe tbody tr th:only-of-type {\n",
       "        vertical-align: middle;\n",
       "    }\n",
       "\n",
       "    .dataframe tbody tr th {\n",
       "        vertical-align: top;\n",
       "    }\n",
       "\n",
       "    .dataframe thead th {\n",
       "        text-align: right;\n",
       "    }\n",
       "</style>\n",
       "<table border=\"1\" class=\"dataframe\">\n",
       "  <thead>\n",
       "    <tr style=\"text-align: right;\">\n",
       "      <th></th>\n",
       "      <th>n</th>\n",
       "      <th>x</th>\n",
       "      <th>y</th>\n",
       "      <th>z</th>\n",
       "    </tr>\n",
       "  </thead>\n",
       "  <tbody>\n",
       "    <tr>\n",
       "      <th>4</th>\n",
       "      <td>6</td>\n",
       "      <td>-1.196656</td>\n",
       "      <td>1.634814</td>\n",
       "      <td>-1.445950</td>\n",
       "    </tr>\n",
       "    <tr>\n",
       "      <th>4</th>\n",
       "      <td>4</td>\n",
       "      <td>-1.716060</td>\n",
       "      <td>1.123835</td>\n",
       "      <td>1.272805</td>\n",
       "    </tr>\n",
       "    <tr>\n",
       "      <th>4</th>\n",
       "      <td>2</td>\n",
       "      <td>-1.012853</td>\n",
       "      <td>1.900108</td>\n",
       "      <td>-1.299746</td>\n",
       "    </tr>\n",
       "  </tbody>\n",
       "</table>\n",
       "</div>"
      ],
      "text/plain": [
       "   n         x         y         z\n",
       "4  6 -1.196656  1.634814 -1.445950\n",
       "4  4 -1.716060  1.123835  1.272805\n",
       "4  2 -1.012853  1.900108 -1.299746"
      ]
     },
     "metadata": {},
     "output_type": "display_data"
    }
   ],
   "source": [
    "first_events = xyz_df_0.iloc[  :3]\n",
    "last_events  = xyz_df_1.iloc[-3: ]\n",
    "display(first_events, last_events)"
   ]
  },
  {
   "cell_type": "code",
   "execution_count": 86,
   "metadata": {},
   "outputs": [
    {
     "data": {
      "text/html": [
       "<div>\n",
       "<style scoped>\n",
       "    .dataframe tbody tr th:only-of-type {\n",
       "        vertical-align: middle;\n",
       "    }\n",
       "\n",
       "    .dataframe tbody tr th {\n",
       "        vertical-align: top;\n",
       "    }\n",
       "\n",
       "    .dataframe thead th {\n",
       "        text-align: right;\n",
       "    }\n",
       "</style>\n",
       "<table border=\"1\" class=\"dataframe\">\n",
       "  <thead>\n",
       "    <tr style=\"text-align: right;\">\n",
       "      <th></th>\n",
       "      <th>n</th>\n",
       "      <th>x</th>\n",
       "      <th>y</th>\n",
       "      <th>z</th>\n",
       "    </tr>\n",
       "  </thead>\n",
       "  <tbody>\n",
       "    <tr>\n",
       "      <th>A</th>\n",
       "      <td>0</td>\n",
       "      <td>-1.304686</td>\n",
       "      <td>1.469194</td>\n",
       "      <td>0.355725</td>\n",
       "    </tr>\n",
       "    <tr>\n",
       "      <th>B</th>\n",
       "      <td>5</td>\n",
       "      <td>-1.325811</td>\n",
       "      <td>1.471220</td>\n",
       "      <td>-0.650498</td>\n",
       "    </tr>\n",
       "    <tr>\n",
       "      <th>C</th>\n",
       "      <td>5</td>\n",
       "      <td>-1.931372</td>\n",
       "      <td>1.668060</td>\n",
       "      <td>0.513859</td>\n",
       "    </tr>\n",
       "    <tr>\n",
       "      <th>4</th>\n",
       "      <td>6</td>\n",
       "      <td>-1.196656</td>\n",
       "      <td>1.634814</td>\n",
       "      <td>-1.445950</td>\n",
       "    </tr>\n",
       "    <tr>\n",
       "      <th>4</th>\n",
       "      <td>4</td>\n",
       "      <td>-1.716060</td>\n",
       "      <td>1.123835</td>\n",
       "      <td>1.272805</td>\n",
       "    </tr>\n",
       "    <tr>\n",
       "      <th>4</th>\n",
       "      <td>2</td>\n",
       "      <td>-1.012853</td>\n",
       "      <td>1.900108</td>\n",
       "      <td>-1.299746</td>\n",
       "    </tr>\n",
       "  </tbody>\n",
       "</table>\n",
       "</div>"
      ],
      "text/plain": [
       "   n         x         y         z\n",
       "A  0 -1.304686  1.469194  0.355725\n",
       "B  5 -1.325811  1.471220 -0.650498\n",
       "C  5 -1.931372  1.668060  0.513859\n",
       "4  6 -1.196656  1.634814 -1.445950\n",
       "4  4 -1.716060  1.123835  1.272805\n",
       "4  2 -1.012853  1.900108 -1.299746"
      ]
     },
     "execution_count": 86,
     "metadata": {},
     "output_type": "execute_result"
    }
   ],
   "source": [
    "pd.concat([first_events, last_events]) # New dataframe"
   ]
  },
  {
   "cell_type": "markdown",
   "metadata": {},
   "source": [
    "The same can be achieved with `append`"
   ]
  },
  {
   "cell_type": "code",
   "execution_count": 87,
   "metadata": {},
   "outputs": [
    {
     "data": {
      "text/html": [
       "<div>\n",
       "<style scoped>\n",
       "    .dataframe tbody tr th:only-of-type {\n",
       "        vertical-align: middle;\n",
       "    }\n",
       "\n",
       "    .dataframe tbody tr th {\n",
       "        vertical-align: top;\n",
       "    }\n",
       "\n",
       "    .dataframe thead th {\n",
       "        text-align: right;\n",
       "    }\n",
       "</style>\n",
       "<table border=\"1\" class=\"dataframe\">\n",
       "  <thead>\n",
       "    <tr style=\"text-align: right;\">\n",
       "      <th></th>\n",
       "      <th>n</th>\n",
       "      <th>x</th>\n",
       "      <th>y</th>\n",
       "      <th>z</th>\n",
       "    </tr>\n",
       "  </thead>\n",
       "  <tbody>\n",
       "    <tr>\n",
       "      <th>A</th>\n",
       "      <td>0</td>\n",
       "      <td>-1.304686</td>\n",
       "      <td>1.469194</td>\n",
       "      <td>0.355725</td>\n",
       "    </tr>\n",
       "    <tr>\n",
       "      <th>B</th>\n",
       "      <td>5</td>\n",
       "      <td>-1.325811</td>\n",
       "      <td>1.471220</td>\n",
       "      <td>-0.650498</td>\n",
       "    </tr>\n",
       "    <tr>\n",
       "      <th>C</th>\n",
       "      <td>5</td>\n",
       "      <td>-1.931372</td>\n",
       "      <td>1.668060</td>\n",
       "      <td>0.513859</td>\n",
       "    </tr>\n",
       "    <tr>\n",
       "      <th>4</th>\n",
       "      <td>6</td>\n",
       "      <td>-1.196656</td>\n",
       "      <td>1.634814</td>\n",
       "      <td>-1.445950</td>\n",
       "    </tr>\n",
       "    <tr>\n",
       "      <th>4</th>\n",
       "      <td>4</td>\n",
       "      <td>-1.716060</td>\n",
       "      <td>1.123835</td>\n",
       "      <td>1.272805</td>\n",
       "    </tr>\n",
       "    <tr>\n",
       "      <th>4</th>\n",
       "      <td>2</td>\n",
       "      <td>-1.012853</td>\n",
       "      <td>1.900108</td>\n",
       "      <td>-1.299746</td>\n",
       "    </tr>\n",
       "  </tbody>\n",
       "</table>\n",
       "</div>"
      ],
      "text/plain": [
       "   n         x         y         z\n",
       "A  0 -1.304686  1.469194  0.355725\n",
       "B  5 -1.325811  1.471220 -0.650498\n",
       "C  5 -1.931372  1.668060  0.513859\n",
       "4  6 -1.196656  1.634814 -1.445950\n",
       "4  4 -1.716060  1.123835  1.272805\n",
       "4  2 -1.012853  1.900108 -1.299746"
      ]
     },
     "execution_count": 87,
     "metadata": {},
     "output_type": "execute_result"
    }
   ],
   "source": [
    "first_events.append(last_events) # new dataframe!"
   ]
  },
  {
   "cell_type": "markdown",
   "metadata": {},
   "source": [
    "You may also append (or concat) a series"
   ]
  },
  {
   "cell_type": "code",
   "execution_count": 90,
   "metadata": {},
   "outputs": [
    {
     "data": {
      "text/html": [
       "<div>\n",
       "<style scoped>\n",
       "    .dataframe tbody tr th:only-of-type {\n",
       "        vertical-align: middle;\n",
       "    }\n",
       "\n",
       "    .dataframe tbody tr th {\n",
       "        vertical-align: top;\n",
       "    }\n",
       "\n",
       "    .dataframe thead th {\n",
       "        text-align: right;\n",
       "    }\n",
       "</style>\n",
       "<table border=\"1\" class=\"dataframe\">\n",
       "  <thead>\n",
       "    <tr style=\"text-align: right;\">\n",
       "      <th></th>\n",
       "      <th>n</th>\n",
       "      <th>x</th>\n",
       "      <th>y</th>\n",
       "      <th>z</th>\n",
       "    </tr>\n",
       "  </thead>\n",
       "  <tbody>\n",
       "    <tr>\n",
       "      <th>A</th>\n",
       "      <td>0.0</td>\n",
       "      <td>-1.304686</td>\n",
       "      <td>1.469194</td>\n",
       "      <td>0.355725</td>\n",
       "    </tr>\n",
       "    <tr>\n",
       "      <th>B</th>\n",
       "      <td>5.0</td>\n",
       "      <td>-1.325811</td>\n",
       "      <td>1.471220</td>\n",
       "      <td>-0.650498</td>\n",
       "    </tr>\n",
       "    <tr>\n",
       "      <th>C</th>\n",
       "      <td>5.0</td>\n",
       "      <td>-1.931372</td>\n",
       "      <td>1.668060</td>\n",
       "      <td>0.513859</td>\n",
       "    </tr>\n",
       "    <tr>\n",
       "      <th>1</th>\n",
       "      <td>5.0</td>\n",
       "      <td>-1.167679</td>\n",
       "      <td>1.488775</td>\n",
       "      <td>-0.069619</td>\n",
       "    </tr>\n",
       "  </tbody>\n",
       "</table>\n",
       "</div>"
      ],
      "text/plain": [
       "     n         x         y         z\n",
       "A  0.0 -1.304686  1.469194  0.355725\n",
       "B  5.0 -1.325811  1.471220 -0.650498\n",
       "C  5.0 -1.931372  1.668060  0.513859\n",
       "1  5.0 -1.167679  1.488775 -0.069619"
      ]
     },
     "execution_count": 90,
     "metadata": {},
     "output_type": "execute_result"
    }
   ],
   "source": [
    "first_events.append(xyz_df_1.iloc[4]) # new dataframe!"
   ]
  },
  {
   "cell_type": "markdown",
   "metadata": {},
   "source": [
    "### Column-wise"
   ]
  },
  {
   "cell_type": "code",
   "execution_count": 112,
   "metadata": {},
   "outputs": [
    {
     "data": {
      "text/html": [
       "<div>\n",
       "<style scoped>\n",
       "    .dataframe tbody tr th:only-of-type {\n",
       "        vertical-align: middle;\n",
       "    }\n",
       "\n",
       "    .dataframe tbody tr th {\n",
       "        vertical-align: top;\n",
       "    }\n",
       "\n",
       "    .dataframe thead th {\n",
       "        text-align: right;\n",
       "    }\n",
       "</style>\n",
       "<table border=\"1\" class=\"dataframe\">\n",
       "  <thead>\n",
       "    <tr style=\"text-align: right;\">\n",
       "      <th></th>\n",
       "      <th>n</th>\n",
       "    </tr>\n",
       "  </thead>\n",
       "  <tbody>\n",
       "    <tr>\n",
       "      <th>0</th>\n",
       "      <td>1</td>\n",
       "    </tr>\n",
       "    <tr>\n",
       "      <th>0</th>\n",
       "      <td>2</td>\n",
       "    </tr>\n",
       "    <tr>\n",
       "      <th>0</th>\n",
       "      <td>0</td>\n",
       "    </tr>\n",
       "    <tr>\n",
       "      <th>1</th>\n",
       "      <td>5</td>\n",
       "    </tr>\n",
       "    <tr>\n",
       "      <th>1</th>\n",
       "      <td>5</td>\n",
       "    </tr>\n",
       "    <tr>\n",
       "      <th>1</th>\n",
       "      <td>2</td>\n",
       "    </tr>\n",
       "    <tr>\n",
       "      <th>4</th>\n",
       "      <td>4</td>\n",
       "    </tr>\n",
       "    <tr>\n",
       "      <th>4</th>\n",
       "      <td>6</td>\n",
       "    </tr>\n",
       "    <tr>\n",
       "      <th>4</th>\n",
       "      <td>4</td>\n",
       "    </tr>\n",
       "    <tr>\n",
       "      <th>4</th>\n",
       "      <td>2</td>\n",
       "    </tr>\n",
       "  </tbody>\n",
       "</table>\n",
       "</div>"
      ],
      "text/plain": [
       "   n\n",
       "0  1\n",
       "0  2\n",
       "0  0\n",
       "1  5\n",
       "1  5\n",
       "1  2\n",
       "4  4\n",
       "4  6\n",
       "4  4\n",
       "4  2"
      ]
     },
     "metadata": {},
     "output_type": "display_data"
    },
    {
     "data": {
      "text/html": [
       "<div>\n",
       "<style scoped>\n",
       "    .dataframe tbody tr th:only-of-type {\n",
       "        vertical-align: middle;\n",
       "    }\n",
       "\n",
       "    .dataframe tbody tr th {\n",
       "        vertical-align: top;\n",
       "    }\n",
       "\n",
       "    .dataframe thead th {\n",
       "        text-align: right;\n",
       "    }\n",
       "</style>\n",
       "<table border=\"1\" class=\"dataframe\">\n",
       "  <thead>\n",
       "    <tr style=\"text-align: right;\">\n",
       "      <th></th>\n",
       "      <th>y</th>\n",
       "      <th>z</th>\n",
       "    </tr>\n",
       "  </thead>\n",
       "  <tbody>\n",
       "    <tr>\n",
       "      <th>0</th>\n",
       "      <td>1.546298</td>\n",
       "      <td>-2.062060</td>\n",
       "    </tr>\n",
       "    <tr>\n",
       "      <th>0</th>\n",
       "      <td>1.805632</td>\n",
       "      <td>1.625085</td>\n",
       "    </tr>\n",
       "    <tr>\n",
       "      <th>0</th>\n",
       "      <td>1.086400</td>\n",
       "      <td>-1.763810</td>\n",
       "    </tr>\n",
       "    <tr>\n",
       "      <th>1</th>\n",
       "      <td>1.764000</td>\n",
       "      <td>-1.144081</td>\n",
       "    </tr>\n",
       "    <tr>\n",
       "      <th>1</th>\n",
       "      <td>1.488775</td>\n",
       "      <td>-0.069619</td>\n",
       "    </tr>\n",
       "    <tr>\n",
       "      <th>1</th>\n",
       "      <td>1.926256</td>\n",
       "      <td>-0.746532</td>\n",
       "    </tr>\n",
       "    <tr>\n",
       "      <th>4</th>\n",
       "      <td>1.448601</td>\n",
       "      <td>-0.529354</td>\n",
       "    </tr>\n",
       "    <tr>\n",
       "      <th>4</th>\n",
       "      <td>1.634814</td>\n",
       "      <td>-1.445950</td>\n",
       "    </tr>\n",
       "    <tr>\n",
       "      <th>4</th>\n",
       "      <td>1.123835</td>\n",
       "      <td>1.272805</td>\n",
       "    </tr>\n",
       "    <tr>\n",
       "      <th>4</th>\n",
       "      <td>1.900108</td>\n",
       "      <td>-1.299746</td>\n",
       "    </tr>\n",
       "  </tbody>\n",
       "</table>\n",
       "</div>"
      ],
      "text/plain": [
       "          y         z\n",
       "0  1.546298 -2.062060\n",
       "0  1.805632  1.625085\n",
       "0  1.086400 -1.763810\n",
       "1  1.764000 -1.144081\n",
       "1  1.488775 -0.069619\n",
       "1  1.926256 -0.746532\n",
       "4  1.448601 -0.529354\n",
       "4  1.634814 -1.445950\n",
       "4  1.123835  1.272805\n",
       "4  1.900108 -1.299746"
      ]
     },
     "metadata": {},
     "output_type": "display_data"
    }
   ],
   "source": [
    "first_columns = xyz_df_1.iloc[:,   :1]\n",
    "last_columns  = xyz_df_1.iloc[:, -2: ]\n",
    "display(first_columns, last_columns)"
   ]
  },
  {
   "cell_type": "code",
   "execution_count": 98,
   "metadata": {},
   "outputs": [
    {
     "data": {
      "text/html": [
       "<div>\n",
       "<style scoped>\n",
       "    .dataframe tbody tr th:only-of-type {\n",
       "        vertical-align: middle;\n",
       "    }\n",
       "\n",
       "    .dataframe tbody tr th {\n",
       "        vertical-align: top;\n",
       "    }\n",
       "\n",
       "    .dataframe thead th {\n",
       "        text-align: right;\n",
       "    }\n",
       "</style>\n",
       "<table border=\"1\" class=\"dataframe\">\n",
       "  <thead>\n",
       "    <tr style=\"text-align: right;\">\n",
       "      <th></th>\n",
       "      <th>n</th>\n",
       "      <th>y</th>\n",
       "      <th>z</th>\n",
       "    </tr>\n",
       "  </thead>\n",
       "  <tbody>\n",
       "    <tr>\n",
       "      <th>0</th>\n",
       "      <td>1</td>\n",
       "      <td>1.546298</td>\n",
       "      <td>-2.062060</td>\n",
       "    </tr>\n",
       "    <tr>\n",
       "      <th>0</th>\n",
       "      <td>2</td>\n",
       "      <td>1.805632</td>\n",
       "      <td>1.625085</td>\n",
       "    </tr>\n",
       "    <tr>\n",
       "      <th>0</th>\n",
       "      <td>0</td>\n",
       "      <td>1.086400</td>\n",
       "      <td>-1.763810</td>\n",
       "    </tr>\n",
       "    <tr>\n",
       "      <th>1</th>\n",
       "      <td>5</td>\n",
       "      <td>1.764000</td>\n",
       "      <td>-1.144081</td>\n",
       "    </tr>\n",
       "    <tr>\n",
       "      <th>1</th>\n",
       "      <td>5</td>\n",
       "      <td>1.488775</td>\n",
       "      <td>-0.069619</td>\n",
       "    </tr>\n",
       "    <tr>\n",
       "      <th>1</th>\n",
       "      <td>2</td>\n",
       "      <td>1.926256</td>\n",
       "      <td>-0.746532</td>\n",
       "    </tr>\n",
       "    <tr>\n",
       "      <th>4</th>\n",
       "      <td>4</td>\n",
       "      <td>1.448601</td>\n",
       "      <td>-0.529354</td>\n",
       "    </tr>\n",
       "    <tr>\n",
       "      <th>4</th>\n",
       "      <td>6</td>\n",
       "      <td>1.634814</td>\n",
       "      <td>-1.445950</td>\n",
       "    </tr>\n",
       "    <tr>\n",
       "      <th>4</th>\n",
       "      <td>4</td>\n",
       "      <td>1.123835</td>\n",
       "      <td>1.272805</td>\n",
       "    </tr>\n",
       "    <tr>\n",
       "      <th>4</th>\n",
       "      <td>2</td>\n",
       "      <td>1.900108</td>\n",
       "      <td>-1.299746</td>\n",
       "    </tr>\n",
       "  </tbody>\n",
       "</table>\n",
       "</div>"
      ],
      "text/plain": [
       "   n         y         z\n",
       "0  1  1.546298 -2.062060\n",
       "0  2  1.805632  1.625085\n",
       "0  0  1.086400 -1.763810\n",
       "1  5  1.764000 -1.144081\n",
       "1  5  1.488775 -0.069619\n",
       "1  2  1.926256 -0.746532\n",
       "4  4  1.448601 -0.529354\n",
       "4  6  1.634814 -1.445950\n",
       "4  4  1.123835  1.272805\n",
       "4  2  1.900108 -1.299746"
      ]
     },
     "execution_count": 98,
     "metadata": {},
     "output_type": "execute_result"
    }
   ],
   "source": [
    "pd.concat([first_columns, last_columns], axis=1) # New dataframe"
   ]
  },
  {
   "cell_type": "markdown",
   "metadata": {},
   "source": [
    "If there are repeated columns the default behaviour is to keep both (`join=\"outer\"`). Use `join=\"inner\"` to keep the intersection."
   ]
  },
  {
   "cell_type": "markdown",
   "metadata": {},
   "source": [
    "You may also concatenate a series to a dataframe"
   ]
  },
  {
   "cell_type": "code",
   "execution_count": 114,
   "metadata": {},
   "outputs": [
    {
     "data": {
      "text/html": [
       "<div>\n",
       "<style scoped>\n",
       "    .dataframe tbody tr th:only-of-type {\n",
       "        vertical-align: middle;\n",
       "    }\n",
       "\n",
       "    .dataframe tbody tr th {\n",
       "        vertical-align: top;\n",
       "    }\n",
       "\n",
       "    .dataframe thead th {\n",
       "        text-align: right;\n",
       "    }\n",
       "</style>\n",
       "<table border=\"1\" class=\"dataframe\">\n",
       "  <thead>\n",
       "    <tr style=\"text-align: right;\">\n",
       "      <th></th>\n",
       "      <th>n</th>\n",
       "      <th>y</th>\n",
       "    </tr>\n",
       "  </thead>\n",
       "  <tbody>\n",
       "    <tr>\n",
       "      <th>0</th>\n",
       "      <td>1</td>\n",
       "      <td>1.546298</td>\n",
       "    </tr>\n",
       "    <tr>\n",
       "      <th>0</th>\n",
       "      <td>2</td>\n",
       "      <td>1.805632</td>\n",
       "    </tr>\n",
       "    <tr>\n",
       "      <th>0</th>\n",
       "      <td>0</td>\n",
       "      <td>1.086400</td>\n",
       "    </tr>\n",
       "    <tr>\n",
       "      <th>1</th>\n",
       "      <td>5</td>\n",
       "      <td>1.764000</td>\n",
       "    </tr>\n",
       "    <tr>\n",
       "      <th>1</th>\n",
       "      <td>5</td>\n",
       "      <td>1.488775</td>\n",
       "    </tr>\n",
       "    <tr>\n",
       "      <th>1</th>\n",
       "      <td>2</td>\n",
       "      <td>1.926256</td>\n",
       "    </tr>\n",
       "    <tr>\n",
       "      <th>4</th>\n",
       "      <td>4</td>\n",
       "      <td>1.448601</td>\n",
       "    </tr>\n",
       "    <tr>\n",
       "      <th>4</th>\n",
       "      <td>6</td>\n",
       "      <td>1.634814</td>\n",
       "    </tr>\n",
       "    <tr>\n",
       "      <th>4</th>\n",
       "      <td>4</td>\n",
       "      <td>1.123835</td>\n",
       "    </tr>\n",
       "    <tr>\n",
       "      <th>4</th>\n",
       "      <td>2</td>\n",
       "      <td>1.900108</td>\n",
       "    </tr>\n",
       "  </tbody>\n",
       "</table>\n",
       "</div>"
      ],
      "text/plain": [
       "   n         y\n",
       "0  1  1.546298\n",
       "0  2  1.805632\n",
       "0  0  1.086400\n",
       "1  5  1.764000\n",
       "1  5  1.488775\n",
       "1  2  1.926256\n",
       "4  4  1.448601\n",
       "4  6  1.634814\n",
       "4  4  1.123835\n",
       "4  2  1.900108"
      ]
     },
     "execution_count": 114,
     "metadata": {},
     "output_type": "execute_result"
    }
   ],
   "source": [
    "pd.concat([first_columns, xyz_df_1.y], axis=1)"
   ]
  },
  {
   "cell_type": "markdown",
   "metadata": {},
   "source": [
    "### Exercise N: join `xyz_df_0` and `xyz_df_2` using `join=\"outer\"`"
   ]
  },
  {
   "cell_type": "code",
   "execution_count": 110,
   "metadata": {},
   "outputs": [
    {
     "data": {
      "text/html": [
       "<div>\n",
       "<style scoped>\n",
       "    .dataframe tbody tr th:only-of-type {\n",
       "        vertical-align: middle;\n",
       "    }\n",
       "\n",
       "    .dataframe tbody tr th {\n",
       "        vertical-align: top;\n",
       "    }\n",
       "\n",
       "    .dataframe thead th {\n",
       "        text-align: right;\n",
       "    }\n",
       "</style>\n",
       "<table border=\"1\" class=\"dataframe\">\n",
       "  <thead>\n",
       "    <tr style=\"text-align: right;\">\n",
       "      <th></th>\n",
       "      <th>n</th>\n",
       "      <th>x</th>\n",
       "      <th>y</th>\n",
       "      <th>z</th>\n",
       "    </tr>\n",
       "  </thead>\n",
       "  <tbody>\n",
       "    <tr>\n",
       "      <th>A</th>\n",
       "      <td>0</td>\n",
       "      <td>-1.304686</td>\n",
       "      <td>1.469194</td>\n",
       "      <td>0.355725</td>\n",
       "    </tr>\n",
       "    <tr>\n",
       "      <th>B</th>\n",
       "      <td>5</td>\n",
       "      <td>-1.325811</td>\n",
       "      <td>1.471220</td>\n",
       "      <td>-0.650498</td>\n",
       "    </tr>\n",
       "    <tr>\n",
       "      <th>C</th>\n",
       "      <td>5</td>\n",
       "      <td>-1.931372</td>\n",
       "      <td>1.668060</td>\n",
       "      <td>0.513859</td>\n",
       "    </tr>\n",
       "    <tr>\n",
       "      <th>D</th>\n",
       "      <td>4</td>\n",
       "      <td>-1.744058</td>\n",
       "      <td>1.286778</td>\n",
       "      <td>0.235089</td>\n",
       "    </tr>\n",
       "    <tr>\n",
       "      <th>E</th>\n",
       "      <td>3</td>\n",
       "      <td>-1.158702</td>\n",
       "      <td>1.253674</td>\n",
       "      <td>1.369917</td>\n",
       "    </tr>\n",
       "    <tr>\n",
       "      <th>F</th>\n",
       "      <td>2</td>\n",
       "      <td>-1.843333</td>\n",
       "      <td>1.845640</td>\n",
       "      <td>-0.562510</td>\n",
       "    </tr>\n",
       "    <tr>\n",
       "      <th>G</th>\n",
       "      <td>6</td>\n",
       "      <td>-1.304873</td>\n",
       "      <td>1.032722</td>\n",
       "      <td>-0.087490</td>\n",
       "    </tr>\n",
       "    <tr>\n",
       "      <th>H</th>\n",
       "      <td>4</td>\n",
       "      <td>-1.684381</td>\n",
       "      <td>1.584054</td>\n",
       "      <td>-0.664299</td>\n",
       "    </tr>\n",
       "    <tr>\n",
       "      <th>I</th>\n",
       "      <td>2</td>\n",
       "      <td>-1.525103</td>\n",
       "      <td>1.644306</td>\n",
       "      <td>-1.258407</td>\n",
       "    </tr>\n",
       "    <tr>\n",
       "      <th>J</th>\n",
       "      <td>5</td>\n",
       "      <td>-1.848859</td>\n",
       "      <td>1.058591</td>\n",
       "      <td>-0.385586</td>\n",
       "    </tr>\n",
       "  </tbody>\n",
       "</table>\n",
       "</div>"
      ],
      "text/plain": [
       "   n         x         y         z\n",
       "A  0 -1.304686  1.469194  0.355725\n",
       "B  5 -1.325811  1.471220 -0.650498\n",
       "C  5 -1.931372  1.668060  0.513859\n",
       "D  4 -1.744058  1.286778  0.235089\n",
       "E  3 -1.158702  1.253674  1.369917\n",
       "F  2 -1.843333  1.845640 -0.562510\n",
       "G  6 -1.304873  1.032722 -0.087490\n",
       "H  4 -1.684381  1.584054 -0.664299\n",
       "I  2 -1.525103  1.644306 -1.258407\n",
       "J  5 -1.848859  1.058591 -0.385586"
      ]
     },
     "metadata": {},
     "output_type": "display_data"
    },
    {
     "data": {
      "text/html": [
       "<div>\n",
       "<style scoped>\n",
       "    .dataframe tbody tr th:only-of-type {\n",
       "        vertical-align: middle;\n",
       "    }\n",
       "\n",
       "    .dataframe tbody tr th {\n",
       "        vertical-align: top;\n",
       "    }\n",
       "\n",
       "    .dataframe thead th {\n",
       "        text-align: right;\n",
       "    }\n",
       "</style>\n",
       "<table border=\"1\" class=\"dataframe\">\n",
       "  <thead>\n",
       "    <tr style=\"text-align: right;\">\n",
       "      <th></th>\n",
       "      <th>x</th>\n",
       "      <th>y</th>\n",
       "      <th>z</th>\n",
       "    </tr>\n",
       "  </thead>\n",
       "  <tbody>\n",
       "    <tr>\n",
       "      <th>A</th>\n",
       "      <td>-1.688764</td>\n",
       "      <td>1.898075</td>\n",
       "      <td>0.692154</td>\n",
       "    </tr>\n",
       "    <tr>\n",
       "      <th>B</th>\n",
       "      <td>-1.885728</td>\n",
       "      <td>1.259110</td>\n",
       "      <td>0.304189</td>\n",
       "    </tr>\n",
       "    <tr>\n",
       "      <th>C</th>\n",
       "      <td>-1.270912</td>\n",
       "      <td>1.773814</td>\n",
       "      <td>-1.164984</td>\n",
       "    </tr>\n",
       "    <tr>\n",
       "      <th>D</th>\n",
       "      <td>-1.560103</td>\n",
       "      <td>102.987983</td>\n",
       "      <td>2.217780</td>\n",
       "    </tr>\n",
       "    <tr>\n",
       "      <th>E</th>\n",
       "      <td>-1.185825</td>\n",
       "      <td>158.543528</td>\n",
       "      <td>-0.265309</td>\n",
       "    </tr>\n",
       "    <tr>\n",
       "      <th>F</th>\n",
       "      <td>-1.847298</td>\n",
       "      <td>163.390446</td>\n",
       "      <td>-0.099170</td>\n",
       "    </tr>\n",
       "    <tr>\n",
       "      <th>G</th>\n",
       "      <td>-1.853815</td>\n",
       "      <td>180.632627</td>\n",
       "      <td>-0.917928</td>\n",
       "    </tr>\n",
       "    <tr>\n",
       "      <th>H</th>\n",
       "      <td>-1.311706</td>\n",
       "      <td>112.062235</td>\n",
       "      <td>0.304014</td>\n",
       "    </tr>\n",
       "    <tr>\n",
       "      <th>I</th>\n",
       "      <td>-1.973770</td>\n",
       "      <td>179.936903</td>\n",
       "      <td>-0.058456</td>\n",
       "    </tr>\n",
       "    <tr>\n",
       "      <th>J</th>\n",
       "      <td>-1.493037</td>\n",
       "      <td>1.431419</td>\n",
       "      <td>-0.784553</td>\n",
       "    </tr>\n",
       "  </tbody>\n",
       "</table>\n",
       "</div>"
      ],
      "text/plain": [
       "          x           y         z\n",
       "A -1.688764    1.898075  0.692154\n",
       "B -1.885728    1.259110  0.304189\n",
       "C -1.270912    1.773814 -1.164984\n",
       "D -1.560103  102.987983  2.217780\n",
       "E -1.185825  158.543528 -0.265309\n",
       "F -1.847298  163.390446 -0.099170\n",
       "G -1.853815  180.632627 -0.917928\n",
       "H -1.311706  112.062235  0.304014\n",
       "I -1.973770  179.936903 -0.058456\n",
       "J -1.493037    1.431419 -0.784553"
      ]
     },
     "metadata": {},
     "output_type": "display_data"
    }
   ],
   "source": [
    "display(xyz_df_0, xyz_df_2)"
   ]
  },
  {
   "cell_type": "code",
   "execution_count": null,
   "metadata": {},
   "outputs": [],
   "source": []
  },
  {
   "cell_type": "markdown",
   "metadata": {},
   "source": [
    "# Grouping data"
   ]
  },
  {
   "cell_type": "markdown",
   "metadata": {},
   "source": [
    "Usually we want to perform operations to groups of data. The most common cases is \"I want to do this event by event\" or \"peak by peak\". The easiest way is to use `groupby`."
   ]
  },
  {
   "cell_type": "code",
   "execution_count": 120,
   "metadata": {},
   "outputs": [
    {
     "data": {
      "text/html": [
       "<div>\n",
       "<style scoped>\n",
       "    .dataframe tbody tr th:only-of-type {\n",
       "        vertical-align: middle;\n",
       "    }\n",
       "\n",
       "    .dataframe tbody tr th {\n",
       "        vertical-align: top;\n",
       "    }\n",
       "\n",
       "    .dataframe thead th {\n",
       "        text-align: right;\n",
       "    }\n",
       "</style>\n",
       "<table border=\"1\" class=\"dataframe\">\n",
       "  <thead>\n",
       "    <tr style=\"text-align: right;\">\n",
       "      <th></th>\n",
       "      <th>n</th>\n",
       "      <th>x</th>\n",
       "      <th>y</th>\n",
       "      <th>z</th>\n",
       "    </tr>\n",
       "    <tr>\n",
       "      <th>event</th>\n",
       "      <th></th>\n",
       "      <th></th>\n",
       "      <th></th>\n",
       "      <th></th>\n",
       "    </tr>\n",
       "  </thead>\n",
       "  <tbody>\n",
       "    <tr>\n",
       "      <th>0</th>\n",
       "      <td>1</td>\n",
       "      <td>-1.905912</td>\n",
       "      <td>1.546298</td>\n",
       "      <td>-2.062060</td>\n",
       "    </tr>\n",
       "    <tr>\n",
       "      <th>0</th>\n",
       "      <td>2</td>\n",
       "      <td>-1.311056</td>\n",
       "      <td>1.805632</td>\n",
       "      <td>1.625085</td>\n",
       "    </tr>\n",
       "    <tr>\n",
       "      <th>0</th>\n",
       "      <td>0</td>\n",
       "      <td>-1.082180</td>\n",
       "      <td>1.086400</td>\n",
       "      <td>-1.763810</td>\n",
       "    </tr>\n",
       "    <tr>\n",
       "      <th>1</th>\n",
       "      <td>5</td>\n",
       "      <td>-1.298341</td>\n",
       "      <td>1.764000</td>\n",
       "      <td>-1.144081</td>\n",
       "    </tr>\n",
       "    <tr>\n",
       "      <th>1</th>\n",
       "      <td>5</td>\n",
       "      <td>-1.167679</td>\n",
       "      <td>1.488775</td>\n",
       "      <td>-0.069619</td>\n",
       "    </tr>\n",
       "    <tr>\n",
       "      <th>1</th>\n",
       "      <td>2</td>\n",
       "      <td>-1.054178</td>\n",
       "      <td>1.926256</td>\n",
       "      <td>-0.746532</td>\n",
       "    </tr>\n",
       "    <tr>\n",
       "      <th>4</th>\n",
       "      <td>4</td>\n",
       "      <td>-1.890491</td>\n",
       "      <td>1.448601</td>\n",
       "      <td>-0.529354</td>\n",
       "    </tr>\n",
       "    <tr>\n",
       "      <th>4</th>\n",
       "      <td>6</td>\n",
       "      <td>-1.196656</td>\n",
       "      <td>1.634814</td>\n",
       "      <td>-1.445950</td>\n",
       "    </tr>\n",
       "    <tr>\n",
       "      <th>4</th>\n",
       "      <td>4</td>\n",
       "      <td>-1.716060</td>\n",
       "      <td>1.123835</td>\n",
       "      <td>1.272805</td>\n",
       "    </tr>\n",
       "    <tr>\n",
       "      <th>4</th>\n",
       "      <td>2</td>\n",
       "      <td>-1.012853</td>\n",
       "      <td>1.900108</td>\n",
       "      <td>-1.299746</td>\n",
       "    </tr>\n",
       "  </tbody>\n",
       "</table>\n",
       "</div>"
      ],
      "text/plain": [
       "       n         x         y         z\n",
       "event                                 \n",
       "0      1 -1.905912  1.546298 -2.062060\n",
       "0      2 -1.311056  1.805632  1.625085\n",
       "0      0 -1.082180  1.086400 -1.763810\n",
       "1      5 -1.298341  1.764000 -1.144081\n",
       "1      5 -1.167679  1.488775 -0.069619\n",
       "1      2 -1.054178  1.926256 -0.746532\n",
       "4      4 -1.890491  1.448601 -0.529354\n",
       "4      6 -1.196656  1.634814 -1.445950\n",
       "4      4 -1.716060  1.123835  1.272805\n",
       "4      2 -1.012853  1.900108 -1.299746"
      ]
     },
     "metadata": {},
     "output_type": "display_data"
    },
    {
     "data": {
      "text/html": [
       "<div>\n",
       "<style scoped>\n",
       "    .dataframe tbody tr th:only-of-type {\n",
       "        vertical-align: middle;\n",
       "    }\n",
       "\n",
       "    .dataframe tbody tr th {\n",
       "        vertical-align: top;\n",
       "    }\n",
       "\n",
       "    .dataframe thead th {\n",
       "        text-align: right;\n",
       "    }\n",
       "</style>\n",
       "<table border=\"1\" class=\"dataframe\">\n",
       "  <thead>\n",
       "    <tr style=\"text-align: right;\">\n",
       "      <th></th>\n",
       "      <th>n</th>\n",
       "      <th>x</th>\n",
       "      <th>y</th>\n",
       "      <th>z</th>\n",
       "    </tr>\n",
       "    <tr>\n",
       "      <th>event</th>\n",
       "      <th></th>\n",
       "      <th></th>\n",
       "      <th></th>\n",
       "      <th></th>\n",
       "    </tr>\n",
       "  </thead>\n",
       "  <tbody>\n",
       "    <tr>\n",
       "      <th>0</th>\n",
       "      <td>1</td>\n",
       "      <td>-1.905912</td>\n",
       "      <td>1.546298</td>\n",
       "      <td>-2.062060</td>\n",
       "    </tr>\n",
       "    <tr>\n",
       "      <th>0</th>\n",
       "      <td>2</td>\n",
       "      <td>-1.311056</td>\n",
       "      <td>1.805632</td>\n",
       "      <td>1.625085</td>\n",
       "    </tr>\n",
       "    <tr>\n",
       "      <th>0</th>\n",
       "      <td>0</td>\n",
       "      <td>-1.082180</td>\n",
       "      <td>1.086400</td>\n",
       "      <td>-1.763810</td>\n",
       "    </tr>\n",
       "  </tbody>\n",
       "</table>\n",
       "</div>"
      ],
      "text/plain": [
       "       n         x         y         z\n",
       "event                                 \n",
       "0      1 -1.905912  1.546298 -2.062060\n",
       "0      2 -1.311056  1.805632  1.625085\n",
       "0      0 -1.082180  1.086400 -1.763810"
      ]
     },
     "metadata": {},
     "output_type": "display_data"
    },
    {
     "data": {
      "text/html": [
       "<div>\n",
       "<style scoped>\n",
       "    .dataframe tbody tr th:only-of-type {\n",
       "        vertical-align: middle;\n",
       "    }\n",
       "\n",
       "    .dataframe tbody tr th {\n",
       "        vertical-align: top;\n",
       "    }\n",
       "\n",
       "    .dataframe thead th {\n",
       "        text-align: right;\n",
       "    }\n",
       "</style>\n",
       "<table border=\"1\" class=\"dataframe\">\n",
       "  <thead>\n",
       "    <tr style=\"text-align: right;\">\n",
       "      <th></th>\n",
       "      <th>n</th>\n",
       "      <th>x</th>\n",
       "      <th>y</th>\n",
       "      <th>z</th>\n",
       "    </tr>\n",
       "    <tr>\n",
       "      <th>event</th>\n",
       "      <th></th>\n",
       "      <th></th>\n",
       "      <th></th>\n",
       "      <th></th>\n",
       "    </tr>\n",
       "  </thead>\n",
       "  <tbody>\n",
       "    <tr>\n",
       "      <th>1</th>\n",
       "      <td>5</td>\n",
       "      <td>-1.298341</td>\n",
       "      <td>1.764000</td>\n",
       "      <td>-1.144081</td>\n",
       "    </tr>\n",
       "    <tr>\n",
       "      <th>1</th>\n",
       "      <td>5</td>\n",
       "      <td>-1.167679</td>\n",
       "      <td>1.488775</td>\n",
       "      <td>-0.069619</td>\n",
       "    </tr>\n",
       "    <tr>\n",
       "      <th>1</th>\n",
       "      <td>2</td>\n",
       "      <td>-1.054178</td>\n",
       "      <td>1.926256</td>\n",
       "      <td>-0.746532</td>\n",
       "    </tr>\n",
       "  </tbody>\n",
       "</table>\n",
       "</div>"
      ],
      "text/plain": [
       "       n         x         y         z\n",
       "event                                 \n",
       "1      5 -1.298341  1.764000 -1.144081\n",
       "1      5 -1.167679  1.488775 -0.069619\n",
       "1      2 -1.054178  1.926256 -0.746532"
      ]
     },
     "metadata": {},
     "output_type": "display_data"
    },
    {
     "data": {
      "text/html": [
       "<div>\n",
       "<style scoped>\n",
       "    .dataframe tbody tr th:only-of-type {\n",
       "        vertical-align: middle;\n",
       "    }\n",
       "\n",
       "    .dataframe tbody tr th {\n",
       "        vertical-align: top;\n",
       "    }\n",
       "\n",
       "    .dataframe thead th {\n",
       "        text-align: right;\n",
       "    }\n",
       "</style>\n",
       "<table border=\"1\" class=\"dataframe\">\n",
       "  <thead>\n",
       "    <tr style=\"text-align: right;\">\n",
       "      <th></th>\n",
       "      <th>n</th>\n",
       "      <th>x</th>\n",
       "      <th>y</th>\n",
       "      <th>z</th>\n",
       "    </tr>\n",
       "    <tr>\n",
       "      <th>event</th>\n",
       "      <th></th>\n",
       "      <th></th>\n",
       "      <th></th>\n",
       "      <th></th>\n",
       "    </tr>\n",
       "  </thead>\n",
       "  <tbody>\n",
       "    <tr>\n",
       "      <th>4</th>\n",
       "      <td>4</td>\n",
       "      <td>-1.890491</td>\n",
       "      <td>1.448601</td>\n",
       "      <td>-0.529354</td>\n",
       "    </tr>\n",
       "    <tr>\n",
       "      <th>4</th>\n",
       "      <td>6</td>\n",
       "      <td>-1.196656</td>\n",
       "      <td>1.634814</td>\n",
       "      <td>-1.445950</td>\n",
       "    </tr>\n",
       "    <tr>\n",
       "      <th>4</th>\n",
       "      <td>4</td>\n",
       "      <td>-1.716060</td>\n",
       "      <td>1.123835</td>\n",
       "      <td>1.272805</td>\n",
       "    </tr>\n",
       "    <tr>\n",
       "      <th>4</th>\n",
       "      <td>2</td>\n",
       "      <td>-1.012853</td>\n",
       "      <td>1.900108</td>\n",
       "      <td>-1.299746</td>\n",
       "    </tr>\n",
       "  </tbody>\n",
       "</table>\n",
       "</div>"
      ],
      "text/plain": [
       "       n         x         y         z\n",
       "event                                 \n",
       "4      4 -1.890491  1.448601 -0.529354\n",
       "4      6 -1.196656  1.634814 -1.445950\n",
       "4      4 -1.716060  1.123835  1.272805\n",
       "4      2 -1.012853  1.900108 -1.299746"
      ]
     },
     "metadata": {},
     "output_type": "display_data"
    }
   ],
   "source": [
    "display(xyz_df_1)\n",
    "groups = xyz_df_1.groupby(\"event\")\n",
    "\n",
    "k = 0\n",
    "for event_no, subdf in groups:\n",
    "    display(subdf)"
   ]
  },
  {
   "cell_type": "markdown",
   "metadata": {},
   "source": [
    "We can also group by more than one label"
   ]
  },
  {
   "cell_type": "code",
   "execution_count": 121,
   "metadata": {},
   "outputs": [
    {
     "data": {
      "text/html": [
       "<div>\n",
       "<style scoped>\n",
       "    .dataframe tbody tr th:only-of-type {\n",
       "        vertical-align: middle;\n",
       "    }\n",
       "\n",
       "    .dataframe tbody tr th {\n",
       "        vertical-align: top;\n",
       "    }\n",
       "\n",
       "    .dataframe thead th {\n",
       "        text-align: right;\n",
       "    }\n",
       "</style>\n",
       "<table border=\"1\" class=\"dataframe\">\n",
       "  <thead>\n",
       "    <tr style=\"text-align: right;\">\n",
       "      <th></th>\n",
       "      <th>n</th>\n",
       "      <th>x</th>\n",
       "      <th>y</th>\n",
       "      <th>z</th>\n",
       "    </tr>\n",
       "    <tr>\n",
       "      <th>event</th>\n",
       "      <th></th>\n",
       "      <th></th>\n",
       "      <th></th>\n",
       "      <th></th>\n",
       "    </tr>\n",
       "  </thead>\n",
       "  <tbody>\n",
       "    <tr>\n",
       "      <th>0</th>\n",
       "      <td>0</td>\n",
       "      <td>-1.08218</td>\n",
       "      <td>1.0864</td>\n",
       "      <td>-1.76381</td>\n",
       "    </tr>\n",
       "  </tbody>\n",
       "</table>\n",
       "</div>"
      ],
      "text/plain": [
       "       n        x       y        z\n",
       "event                             \n",
       "0      0 -1.08218  1.0864 -1.76381"
      ]
     },
     "metadata": {},
     "output_type": "display_data"
    },
    {
     "data": {
      "text/html": [
       "<div>\n",
       "<style scoped>\n",
       "    .dataframe tbody tr th:only-of-type {\n",
       "        vertical-align: middle;\n",
       "    }\n",
       "\n",
       "    .dataframe tbody tr th {\n",
       "        vertical-align: top;\n",
       "    }\n",
       "\n",
       "    .dataframe thead th {\n",
       "        text-align: right;\n",
       "    }\n",
       "</style>\n",
       "<table border=\"1\" class=\"dataframe\">\n",
       "  <thead>\n",
       "    <tr style=\"text-align: right;\">\n",
       "      <th></th>\n",
       "      <th>n</th>\n",
       "      <th>x</th>\n",
       "      <th>y</th>\n",
       "      <th>z</th>\n",
       "    </tr>\n",
       "    <tr>\n",
       "      <th>event</th>\n",
       "      <th></th>\n",
       "      <th></th>\n",
       "      <th></th>\n",
       "      <th></th>\n",
       "    </tr>\n",
       "  </thead>\n",
       "  <tbody>\n",
       "    <tr>\n",
       "      <th>0</th>\n",
       "      <td>1</td>\n",
       "      <td>-1.905912</td>\n",
       "      <td>1.546298</td>\n",
       "      <td>-2.06206</td>\n",
       "    </tr>\n",
       "  </tbody>\n",
       "</table>\n",
       "</div>"
      ],
      "text/plain": [
       "       n         x         y        z\n",
       "event                                \n",
       "0      1 -1.905912  1.546298 -2.06206"
      ]
     },
     "metadata": {},
     "output_type": "display_data"
    },
    {
     "data": {
      "text/html": [
       "<div>\n",
       "<style scoped>\n",
       "    .dataframe tbody tr th:only-of-type {\n",
       "        vertical-align: middle;\n",
       "    }\n",
       "\n",
       "    .dataframe tbody tr th {\n",
       "        vertical-align: top;\n",
       "    }\n",
       "\n",
       "    .dataframe thead th {\n",
       "        text-align: right;\n",
       "    }\n",
       "</style>\n",
       "<table border=\"1\" class=\"dataframe\">\n",
       "  <thead>\n",
       "    <tr style=\"text-align: right;\">\n",
       "      <th></th>\n",
       "      <th>n</th>\n",
       "      <th>x</th>\n",
       "      <th>y</th>\n",
       "      <th>z</th>\n",
       "    </tr>\n",
       "    <tr>\n",
       "      <th>event</th>\n",
       "      <th></th>\n",
       "      <th></th>\n",
       "      <th></th>\n",
       "      <th></th>\n",
       "    </tr>\n",
       "  </thead>\n",
       "  <tbody>\n",
       "    <tr>\n",
       "      <th>0</th>\n",
       "      <td>2</td>\n",
       "      <td>-1.311056</td>\n",
       "      <td>1.805632</td>\n",
       "      <td>1.625085</td>\n",
       "    </tr>\n",
       "  </tbody>\n",
       "</table>\n",
       "</div>"
      ],
      "text/plain": [
       "       n         x         y         z\n",
       "event                                 \n",
       "0      2 -1.311056  1.805632  1.625085"
      ]
     },
     "metadata": {},
     "output_type": "display_data"
    },
    {
     "data": {
      "text/html": [
       "<div>\n",
       "<style scoped>\n",
       "    .dataframe tbody tr th:only-of-type {\n",
       "        vertical-align: middle;\n",
       "    }\n",
       "\n",
       "    .dataframe tbody tr th {\n",
       "        vertical-align: top;\n",
       "    }\n",
       "\n",
       "    .dataframe thead th {\n",
       "        text-align: right;\n",
       "    }\n",
       "</style>\n",
       "<table border=\"1\" class=\"dataframe\">\n",
       "  <thead>\n",
       "    <tr style=\"text-align: right;\">\n",
       "      <th></th>\n",
       "      <th>n</th>\n",
       "      <th>x</th>\n",
       "      <th>y</th>\n",
       "      <th>z</th>\n",
       "    </tr>\n",
       "    <tr>\n",
       "      <th>event</th>\n",
       "      <th></th>\n",
       "      <th></th>\n",
       "      <th></th>\n",
       "      <th></th>\n",
       "    </tr>\n",
       "  </thead>\n",
       "  <tbody>\n",
       "    <tr>\n",
       "      <th>1</th>\n",
       "      <td>2</td>\n",
       "      <td>-1.054178</td>\n",
       "      <td>1.926256</td>\n",
       "      <td>-0.746532</td>\n",
       "    </tr>\n",
       "  </tbody>\n",
       "</table>\n",
       "</div>"
      ],
      "text/plain": [
       "       n         x         y         z\n",
       "event                                 \n",
       "1      2 -1.054178  1.926256 -0.746532"
      ]
     },
     "metadata": {},
     "output_type": "display_data"
    },
    {
     "data": {
      "text/html": [
       "<div>\n",
       "<style scoped>\n",
       "    .dataframe tbody tr th:only-of-type {\n",
       "        vertical-align: middle;\n",
       "    }\n",
       "\n",
       "    .dataframe tbody tr th {\n",
       "        vertical-align: top;\n",
       "    }\n",
       "\n",
       "    .dataframe thead th {\n",
       "        text-align: right;\n",
       "    }\n",
       "</style>\n",
       "<table border=\"1\" class=\"dataframe\">\n",
       "  <thead>\n",
       "    <tr style=\"text-align: right;\">\n",
       "      <th></th>\n",
       "      <th>n</th>\n",
       "      <th>x</th>\n",
       "      <th>y</th>\n",
       "      <th>z</th>\n",
       "    </tr>\n",
       "    <tr>\n",
       "      <th>event</th>\n",
       "      <th></th>\n",
       "      <th></th>\n",
       "      <th></th>\n",
       "      <th></th>\n",
       "    </tr>\n",
       "  </thead>\n",
       "  <tbody>\n",
       "    <tr>\n",
       "      <th>1</th>\n",
       "      <td>5</td>\n",
       "      <td>-1.298341</td>\n",
       "      <td>1.764000</td>\n",
       "      <td>-1.144081</td>\n",
       "    </tr>\n",
       "    <tr>\n",
       "      <th>1</th>\n",
       "      <td>5</td>\n",
       "      <td>-1.167679</td>\n",
       "      <td>1.488775</td>\n",
       "      <td>-0.069619</td>\n",
       "    </tr>\n",
       "  </tbody>\n",
       "</table>\n",
       "</div>"
      ],
      "text/plain": [
       "       n         x         y         z\n",
       "event                                 \n",
       "1      5 -1.298341  1.764000 -1.144081\n",
       "1      5 -1.167679  1.488775 -0.069619"
      ]
     },
     "metadata": {},
     "output_type": "display_data"
    },
    {
     "data": {
      "text/html": [
       "<div>\n",
       "<style scoped>\n",
       "    .dataframe tbody tr th:only-of-type {\n",
       "        vertical-align: middle;\n",
       "    }\n",
       "\n",
       "    .dataframe tbody tr th {\n",
       "        vertical-align: top;\n",
       "    }\n",
       "\n",
       "    .dataframe thead th {\n",
       "        text-align: right;\n",
       "    }\n",
       "</style>\n",
       "<table border=\"1\" class=\"dataframe\">\n",
       "  <thead>\n",
       "    <tr style=\"text-align: right;\">\n",
       "      <th></th>\n",
       "      <th>n</th>\n",
       "      <th>x</th>\n",
       "      <th>y</th>\n",
       "      <th>z</th>\n",
       "    </tr>\n",
       "    <tr>\n",
       "      <th>event</th>\n",
       "      <th></th>\n",
       "      <th></th>\n",
       "      <th></th>\n",
       "      <th></th>\n",
       "    </tr>\n",
       "  </thead>\n",
       "  <tbody>\n",
       "    <tr>\n",
       "      <th>4</th>\n",
       "      <td>2</td>\n",
       "      <td>-1.012853</td>\n",
       "      <td>1.900108</td>\n",
       "      <td>-1.299746</td>\n",
       "    </tr>\n",
       "  </tbody>\n",
       "</table>\n",
       "</div>"
      ],
      "text/plain": [
       "       n         x         y         z\n",
       "event                                 \n",
       "4      2 -1.012853  1.900108 -1.299746"
      ]
     },
     "metadata": {},
     "output_type": "display_data"
    },
    {
     "data": {
      "text/html": [
       "<div>\n",
       "<style scoped>\n",
       "    .dataframe tbody tr th:only-of-type {\n",
       "        vertical-align: middle;\n",
       "    }\n",
       "\n",
       "    .dataframe tbody tr th {\n",
       "        vertical-align: top;\n",
       "    }\n",
       "\n",
       "    .dataframe thead th {\n",
       "        text-align: right;\n",
       "    }\n",
       "</style>\n",
       "<table border=\"1\" class=\"dataframe\">\n",
       "  <thead>\n",
       "    <tr style=\"text-align: right;\">\n",
       "      <th></th>\n",
       "      <th>n</th>\n",
       "      <th>x</th>\n",
       "      <th>y</th>\n",
       "      <th>z</th>\n",
       "    </tr>\n",
       "    <tr>\n",
       "      <th>event</th>\n",
       "      <th></th>\n",
       "      <th></th>\n",
       "      <th></th>\n",
       "      <th></th>\n",
       "    </tr>\n",
       "  </thead>\n",
       "  <tbody>\n",
       "    <tr>\n",
       "      <th>4</th>\n",
       "      <td>4</td>\n",
       "      <td>-1.890491</td>\n",
       "      <td>1.448601</td>\n",
       "      <td>-0.529354</td>\n",
       "    </tr>\n",
       "    <tr>\n",
       "      <th>4</th>\n",
       "      <td>4</td>\n",
       "      <td>-1.716060</td>\n",
       "      <td>1.123835</td>\n",
       "      <td>1.272805</td>\n",
       "    </tr>\n",
       "  </tbody>\n",
       "</table>\n",
       "</div>"
      ],
      "text/plain": [
       "       n         x         y         z\n",
       "event                                 \n",
       "4      4 -1.890491  1.448601 -0.529354\n",
       "4      4 -1.716060  1.123835  1.272805"
      ]
     },
     "metadata": {},
     "output_type": "display_data"
    },
    {
     "data": {
      "text/html": [
       "<div>\n",
       "<style scoped>\n",
       "    .dataframe tbody tr th:only-of-type {\n",
       "        vertical-align: middle;\n",
       "    }\n",
       "\n",
       "    .dataframe tbody tr th {\n",
       "        vertical-align: top;\n",
       "    }\n",
       "\n",
       "    .dataframe thead th {\n",
       "        text-align: right;\n",
       "    }\n",
       "</style>\n",
       "<table border=\"1\" class=\"dataframe\">\n",
       "  <thead>\n",
       "    <tr style=\"text-align: right;\">\n",
       "      <th></th>\n",
       "      <th>n</th>\n",
       "      <th>x</th>\n",
       "      <th>y</th>\n",
       "      <th>z</th>\n",
       "    </tr>\n",
       "    <tr>\n",
       "      <th>event</th>\n",
       "      <th></th>\n",
       "      <th></th>\n",
       "      <th></th>\n",
       "      <th></th>\n",
       "    </tr>\n",
       "  </thead>\n",
       "  <tbody>\n",
       "    <tr>\n",
       "      <th>4</th>\n",
       "      <td>6</td>\n",
       "      <td>-1.196656</td>\n",
       "      <td>1.634814</td>\n",
       "      <td>-1.44595</td>\n",
       "    </tr>\n",
       "  </tbody>\n",
       "</table>\n",
       "</div>"
      ],
      "text/plain": [
       "       n         x         y        z\n",
       "event                                \n",
       "4      6 -1.196656  1.634814 -1.44595"
      ]
     },
     "metadata": {},
     "output_type": "display_data"
    }
   ],
   "source": [
    "groups = xyz_df_1.groupby([\"event\", \"n\"])\n",
    "\n",
    "k = 0\n",
    "for (event_no, peak_no), subdf in groups:\n",
    "    display(subdf)"
   ]
  },
  {
   "cell_type": "markdown",
   "metadata": {},
   "source": [
    "If we are interested in a specific group, not all of them, we can also get them"
   ]
  },
  {
   "cell_type": "code",
   "execution_count": 122,
   "metadata": {},
   "outputs": [
    {
     "data": {
      "text/html": [
       "<div>\n",
       "<style scoped>\n",
       "    .dataframe tbody tr th:only-of-type {\n",
       "        vertical-align: middle;\n",
       "    }\n",
       "\n",
       "    .dataframe tbody tr th {\n",
       "        vertical-align: top;\n",
       "    }\n",
       "\n",
       "    .dataframe thead th {\n",
       "        text-align: right;\n",
       "    }\n",
       "</style>\n",
       "<table border=\"1\" class=\"dataframe\">\n",
       "  <thead>\n",
       "    <tr style=\"text-align: right;\">\n",
       "      <th></th>\n",
       "      <th>n</th>\n",
       "      <th>x</th>\n",
       "      <th>y</th>\n",
       "      <th>z</th>\n",
       "    </tr>\n",
       "    <tr>\n",
       "      <th>event</th>\n",
       "      <th></th>\n",
       "      <th></th>\n",
       "      <th></th>\n",
       "      <th></th>\n",
       "    </tr>\n",
       "  </thead>\n",
       "  <tbody>\n",
       "    <tr>\n",
       "      <th>1</th>\n",
       "      <td>5</td>\n",
       "      <td>-1.298341</td>\n",
       "      <td>1.764000</td>\n",
       "      <td>-1.144081</td>\n",
       "    </tr>\n",
       "    <tr>\n",
       "      <th>1</th>\n",
       "      <td>5</td>\n",
       "      <td>-1.167679</td>\n",
       "      <td>1.488775</td>\n",
       "      <td>-0.069619</td>\n",
       "    </tr>\n",
       "  </tbody>\n",
       "</table>\n",
       "</div>"
      ],
      "text/plain": [
       "       n         x         y         z\n",
       "event                                 \n",
       "1      5 -1.298341  1.764000 -1.144081\n",
       "1      5 -1.167679  1.488775 -0.069619"
      ]
     },
     "execution_count": 122,
     "metadata": {},
     "output_type": "execute_result"
    }
   ],
   "source": [
    "groups.get_group((1, 5)) # event=1, n=5"
   ]
  },
  {
   "cell_type": "markdown",
   "metadata": {},
   "source": [
    "# Applying operations on each group"
   ]
  },
  {
   "cell_type": "markdown",
   "metadata": {},
   "source": [
    "We can get generic properties of each grup easily"
   ]
  },
  {
   "cell_type": "code",
   "execution_count": 123,
   "metadata": {},
   "outputs": [
    {
     "data": {
      "text/plain": [
       "event\n",
       "0    3\n",
       "1    3\n",
       "4    4\n",
       "dtype: int64"
      ]
     },
     "execution_count": 123,
     "metadata": {},
     "output_type": "execute_result"
    }
   ],
   "source": [
    "groups = xyz_df_1.groupby(\"event\")\n",
    "groups.size() # Count rows in each group"
   ]
  },
  {
   "cell_type": "code",
   "execution_count": 124,
   "metadata": {},
   "outputs": [
    {
     "data": {
      "text/html": [
       "<div>\n",
       "<style scoped>\n",
       "    .dataframe tbody tr th:only-of-type {\n",
       "        vertical-align: middle;\n",
       "    }\n",
       "\n",
       "    .dataframe tbody tr th {\n",
       "        vertical-align: top;\n",
       "    }\n",
       "\n",
       "    .dataframe thead th {\n",
       "        text-align: right;\n",
       "    }\n",
       "</style>\n",
       "<table border=\"1\" class=\"dataframe\">\n",
       "  <thead>\n",
       "    <tr style=\"text-align: right;\">\n",
       "      <th></th>\n",
       "      <th>n</th>\n",
       "      <th>x</th>\n",
       "      <th>y</th>\n",
       "      <th>z</th>\n",
       "    </tr>\n",
       "    <tr>\n",
       "      <th>event</th>\n",
       "      <th></th>\n",
       "      <th></th>\n",
       "      <th></th>\n",
       "      <th></th>\n",
       "    </tr>\n",
       "  </thead>\n",
       "  <tbody>\n",
       "    <tr>\n",
       "      <th>0</th>\n",
       "      <td>1</td>\n",
       "      <td>-1.433049</td>\n",
       "      <td>1.479443</td>\n",
       "      <td>-0.733595</td>\n",
       "    </tr>\n",
       "    <tr>\n",
       "      <th>1</th>\n",
       "      <td>4</td>\n",
       "      <td>-1.173399</td>\n",
       "      <td>1.726343</td>\n",
       "      <td>-0.653410</td>\n",
       "    </tr>\n",
       "    <tr>\n",
       "      <th>4</th>\n",
       "      <td>4</td>\n",
       "      <td>-1.454015</td>\n",
       "      <td>1.526839</td>\n",
       "      <td>-0.500561</td>\n",
       "    </tr>\n",
       "  </tbody>\n",
       "</table>\n",
       "</div>"
      ],
      "text/plain": [
       "       n         x         y         z\n",
       "event                                 \n",
       "0      1 -1.433049  1.479443 -0.733595\n",
       "1      4 -1.173399  1.726343 -0.653410\n",
       "4      4 -1.454015  1.526839 -0.500561"
      ]
     },
     "execution_count": 124,
     "metadata": {},
     "output_type": "execute_result"
    }
   ],
   "source": [
    "groups.mean()"
   ]
  },
  {
   "cell_type": "markdown",
   "metadata": {},
   "source": [
    "We can get it for a specific column as well (faster if you don't need to apply the same operation onto many columns)"
   ]
  },
  {
   "cell_type": "code",
   "execution_count": 127,
   "metadata": {},
   "outputs": [
    {
     "data": {
      "text/plain": [
       "event\n",
       "0   -1.433049\n",
       "1   -1.173399\n",
       "4   -1.454015\n",
       "Name: x, dtype: float64"
      ]
     },
     "execution_count": 127,
     "metadata": {},
     "output_type": "execute_result"
    }
   ],
   "source": [
    "groups.x.mean() # groups[\"x\"] would also work"
   ]
  },
  {
   "cell_type": "markdown",
   "metadata": {},
   "source": [
    "We can also produce a new dataframe with this information with `aggregate`"
   ]
  },
  {
   "cell_type": "code",
   "execution_count": 128,
   "metadata": {},
   "outputs": [
    {
     "data": {
      "text/html": [
       "<div>\n",
       "<style scoped>\n",
       "    .dataframe tbody tr th:only-of-type {\n",
       "        vertical-align: middle;\n",
       "    }\n",
       "\n",
       "    .dataframe tbody tr th {\n",
       "        vertical-align: top;\n",
       "    }\n",
       "\n",
       "    .dataframe thead th {\n",
       "        text-align: right;\n",
       "    }\n",
       "</style>\n",
       "<table border=\"1\" class=\"dataframe\">\n",
       "  <thead>\n",
       "    <tr style=\"text-align: right;\">\n",
       "      <th></th>\n",
       "      <th>n</th>\n",
       "      <th>x</th>\n",
       "      <th>y</th>\n",
       "      <th>z</th>\n",
       "    </tr>\n",
       "    <tr>\n",
       "      <th>event</th>\n",
       "      <th></th>\n",
       "      <th></th>\n",
       "      <th></th>\n",
       "      <th></th>\n",
       "    </tr>\n",
       "  </thead>\n",
       "  <tbody>\n",
       "    <tr>\n",
       "      <th>0</th>\n",
       "      <td>3</td>\n",
       "      <td>-4.299148</td>\n",
       "      <td>4.438330</td>\n",
       "      <td>-2.200785</td>\n",
       "    </tr>\n",
       "    <tr>\n",
       "      <th>1</th>\n",
       "      <td>12</td>\n",
       "      <td>-3.520198</td>\n",
       "      <td>5.179030</td>\n",
       "      <td>-1.960231</td>\n",
       "    </tr>\n",
       "    <tr>\n",
       "      <th>4</th>\n",
       "      <td>16</td>\n",
       "      <td>-5.816060</td>\n",
       "      <td>6.107357</td>\n",
       "      <td>-2.002245</td>\n",
       "    </tr>\n",
       "  </tbody>\n",
       "</table>\n",
       "</div>"
      ],
      "text/plain": [
       "        n         x         y         z\n",
       "event                                  \n",
       "0       3 -4.299148  4.438330 -2.200785\n",
       "1      12 -3.520198  5.179030 -1.960231\n",
       "4      16 -5.816060  6.107357 -2.002245"
      ]
     },
     "execution_count": 128,
     "metadata": {},
     "output_type": "execute_result"
    }
   ],
   "source": [
    "groups.aggregate(np.sum) # Produce a dataframe indexed with event and summing all entries in each column"
   ]
  },
  {
   "cell_type": "markdown",
   "metadata": {},
   "source": [
    "We may want to apply different operations to different columns"
   ]
  },
  {
   "cell_type": "code",
   "execution_count": 129,
   "metadata": {},
   "outputs": [
    {
     "data": {
      "text/html": [
       "<div>\n",
       "<style scoped>\n",
       "    .dataframe tbody tr th:only-of-type {\n",
       "        vertical-align: middle;\n",
       "    }\n",
       "\n",
       "    .dataframe tbody tr th {\n",
       "        vertical-align: top;\n",
       "    }\n",
       "\n",
       "    .dataframe thead th {\n",
       "        text-align: right;\n",
       "    }\n",
       "</style>\n",
       "<table border=\"1\" class=\"dataframe\">\n",
       "  <thead>\n",
       "    <tr style=\"text-align: right;\">\n",
       "      <th></th>\n",
       "      <th>n</th>\n",
       "      <th>x</th>\n",
       "      <th>y</th>\n",
       "      <th>z</th>\n",
       "    </tr>\n",
       "    <tr>\n",
       "      <th>event</th>\n",
       "      <th></th>\n",
       "      <th></th>\n",
       "      <th></th>\n",
       "      <th></th>\n",
       "    </tr>\n",
       "  </thead>\n",
       "  <tbody>\n",
       "    <tr>\n",
       "      <th>0</th>\n",
       "      <td>3</td>\n",
       "      <td>-1.433049</td>\n",
       "      <td>1.086400</td>\n",
       "      <td>-2.062060</td>\n",
       "    </tr>\n",
       "    <tr>\n",
       "      <th>1</th>\n",
       "      <td>12</td>\n",
       "      <td>-1.173399</td>\n",
       "      <td>1.488775</td>\n",
       "      <td>-1.144081</td>\n",
       "    </tr>\n",
       "    <tr>\n",
       "      <th>4</th>\n",
       "      <td>16</td>\n",
       "      <td>-1.454015</td>\n",
       "      <td>1.123835</td>\n",
       "      <td>-0.529354</td>\n",
       "    </tr>\n",
       "  </tbody>\n",
       "</table>\n",
       "</div>"
      ],
      "text/plain": [
       "        n         x         y         z\n",
       "event                                  \n",
       "0       3 -1.433049  1.086400 -2.062060\n",
       "1      12 -1.173399  1.488775 -1.144081\n",
       "4      16 -1.454015  1.123835 -0.529354"
      ]
     },
     "execution_count": 129,
     "metadata": {},
     "output_type": "execute_result"
    }
   ],
   "source": [
    "groups.aggregate(dict(n=np.sum, x=np.mean, y=\"min\", z=\"first\"))\n",
    "# Same, but only with the specified operation to each column"
   ]
  },
  {
   "cell_type": "markdown",
   "metadata": {},
   "source": [
    "You may also want to get many properties of the same data"
   ]
  },
  {
   "cell_type": "code",
   "execution_count": 130,
   "metadata": {},
   "outputs": [
    {
     "data": {
      "text/html": [
       "<div>\n",
       "<style scoped>\n",
       "    .dataframe tbody tr th:only-of-type {\n",
       "        vertical-align: middle;\n",
       "    }\n",
       "\n",
       "    .dataframe tbody tr th {\n",
       "        vertical-align: top;\n",
       "    }\n",
       "\n",
       "    .dataframe thead th {\n",
       "        text-align: right;\n",
       "    }\n",
       "</style>\n",
       "<table border=\"1\" class=\"dataframe\">\n",
       "  <thead>\n",
       "    <tr style=\"text-align: right;\">\n",
       "      <th></th>\n",
       "      <th>mean</th>\n",
       "      <th>std</th>\n",
       "      <th>count</th>\n",
       "    </tr>\n",
       "    <tr>\n",
       "      <th>event</th>\n",
       "      <th></th>\n",
       "      <th></th>\n",
       "      <th></th>\n",
       "    </tr>\n",
       "  </thead>\n",
       "  <tbody>\n",
       "    <tr>\n",
       "      <th>0</th>\n",
       "      <td>-1.433049</td>\n",
       "      <td>0.425201</td>\n",
       "      <td>3</td>\n",
       "    </tr>\n",
       "    <tr>\n",
       "      <th>1</th>\n",
       "      <td>-1.173399</td>\n",
       "      <td>0.122182</td>\n",
       "      <td>3</td>\n",
       "    </tr>\n",
       "    <tr>\n",
       "      <th>4</th>\n",
       "      <td>-1.454015</td>\n",
       "      <td>0.416348</td>\n",
       "      <td>4</td>\n",
       "    </tr>\n",
       "  </tbody>\n",
       "</table>\n",
       "</div>"
      ],
      "text/plain": [
       "           mean       std  count\n",
       "event                           \n",
       "0     -1.433049  0.425201      3\n",
       "1     -1.173399  0.122182      3\n",
       "4     -1.454015  0.416348      4"
      ]
     },
     "execution_count": 130,
     "metadata": {},
     "output_type": "execute_result"
    }
   ],
   "source": [
    "groups.x.aggregate([np.mean, np.std, \"count\"]) # produce a df with these columns for each group"
   ]
  },
  {
   "cell_type": "markdown",
   "metadata": {},
   "source": [
    "It also works for a dataframe, but it gets messy"
   ]
  },
  {
   "cell_type": "code",
   "execution_count": 131,
   "metadata": {},
   "outputs": [
    {
     "data": {
      "text/html": [
       "<div>\n",
       "<style scoped>\n",
       "    .dataframe tbody tr th:only-of-type {\n",
       "        vertical-align: middle;\n",
       "    }\n",
       "\n",
       "    .dataframe tbody tr th {\n",
       "        vertical-align: top;\n",
       "    }\n",
       "\n",
       "    .dataframe thead tr th {\n",
       "        text-align: left;\n",
       "    }\n",
       "\n",
       "    .dataframe thead tr:last-of-type th {\n",
       "        text-align: right;\n",
       "    }\n",
       "</style>\n",
       "<table border=\"1\" class=\"dataframe\">\n",
       "  <thead>\n",
       "    <tr>\n",
       "      <th></th>\n",
       "      <th colspan=\"2\" halign=\"left\">n</th>\n",
       "      <th colspan=\"2\" halign=\"left\">x</th>\n",
       "      <th colspan=\"2\" halign=\"left\">y</th>\n",
       "      <th colspan=\"2\" halign=\"left\">z</th>\n",
       "    </tr>\n",
       "    <tr>\n",
       "      <th></th>\n",
       "      <th>min</th>\n",
       "      <th>max</th>\n",
       "      <th>min</th>\n",
       "      <th>max</th>\n",
       "      <th>min</th>\n",
       "      <th>max</th>\n",
       "      <th>min</th>\n",
       "      <th>max</th>\n",
       "    </tr>\n",
       "    <tr>\n",
       "      <th>event</th>\n",
       "      <th></th>\n",
       "      <th></th>\n",
       "      <th></th>\n",
       "      <th></th>\n",
       "      <th></th>\n",
       "      <th></th>\n",
       "      <th></th>\n",
       "      <th></th>\n",
       "    </tr>\n",
       "  </thead>\n",
       "  <tbody>\n",
       "    <tr>\n",
       "      <th>0</th>\n",
       "      <td>0</td>\n",
       "      <td>2</td>\n",
       "      <td>-1.905912</td>\n",
       "      <td>-1.082180</td>\n",
       "      <td>1.086400</td>\n",
       "      <td>1.805632</td>\n",
       "      <td>-2.062060</td>\n",
       "      <td>1.625085</td>\n",
       "    </tr>\n",
       "    <tr>\n",
       "      <th>1</th>\n",
       "      <td>2</td>\n",
       "      <td>5</td>\n",
       "      <td>-1.298341</td>\n",
       "      <td>-1.054178</td>\n",
       "      <td>1.488775</td>\n",
       "      <td>1.926256</td>\n",
       "      <td>-1.144081</td>\n",
       "      <td>-0.069619</td>\n",
       "    </tr>\n",
       "    <tr>\n",
       "      <th>4</th>\n",
       "      <td>2</td>\n",
       "      <td>6</td>\n",
       "      <td>-1.890491</td>\n",
       "      <td>-1.012853</td>\n",
       "      <td>1.123835</td>\n",
       "      <td>1.900108</td>\n",
       "      <td>-1.445950</td>\n",
       "      <td>1.272805</td>\n",
       "    </tr>\n",
       "  </tbody>\n",
       "</table>\n",
       "</div>"
      ],
      "text/plain": [
       "        n             x                   y                   z          \n",
       "      min max       min       max       min       max       min       max\n",
       "event                                                                    \n",
       "0       0   2 -1.905912 -1.082180  1.086400  1.805632 -2.062060  1.625085\n",
       "1       2   5 -1.298341 -1.054178  1.488775  1.926256 -1.144081 -0.069619\n",
       "4       2   6 -1.890491 -1.012853  1.123835  1.900108 -1.445950  1.272805"
      ]
     },
     "execution_count": 131,
     "metadata": {},
     "output_type": "execute_result"
    }
   ],
   "source": [
    "groups.aggregate([\"min\", \"max\"]) # Produce dataframe with two column levels"
   ]
  },
  {
   "cell_type": "markdown",
   "metadata": {},
   "source": [
    "You don't like these names? No problem!"
   ]
  },
  {
   "cell_type": "code",
   "execution_count": 132,
   "metadata": {},
   "outputs": [
    {
     "data": {
      "text/html": [
       "<div>\n",
       "<style scoped>\n",
       "    .dataframe tbody tr th:only-of-type {\n",
       "        vertical-align: middle;\n",
       "    }\n",
       "\n",
       "    .dataframe tbody tr th {\n",
       "        vertical-align: top;\n",
       "    }\n",
       "\n",
       "    .dataframe thead th {\n",
       "        text-align: right;\n",
       "    }\n",
       "</style>\n",
       "<table border=\"1\" class=\"dataframe\">\n",
       "  <thead>\n",
       "    <tr style=\"text-align: right;\">\n",
       "      <th></th>\n",
       "      <th>sum_n</th>\n",
       "      <th>av_x</th>\n",
       "      <th>min_y</th>\n",
       "      <th>first_z</th>\n",
       "    </tr>\n",
       "    <tr>\n",
       "      <th>event</th>\n",
       "      <th></th>\n",
       "      <th></th>\n",
       "      <th></th>\n",
       "      <th></th>\n",
       "    </tr>\n",
       "  </thead>\n",
       "  <tbody>\n",
       "    <tr>\n",
       "      <th>0</th>\n",
       "      <td>3</td>\n",
       "      <td>-1.433049</td>\n",
       "      <td>1.086400</td>\n",
       "      <td>-2.062060</td>\n",
       "    </tr>\n",
       "    <tr>\n",
       "      <th>1</th>\n",
       "      <td>12</td>\n",
       "      <td>-1.173399</td>\n",
       "      <td>1.488775</td>\n",
       "      <td>-1.144081</td>\n",
       "    </tr>\n",
       "    <tr>\n",
       "      <th>4</th>\n",
       "      <td>16</td>\n",
       "      <td>-1.454015</td>\n",
       "      <td>1.123835</td>\n",
       "      <td>-0.529354</td>\n",
       "    </tr>\n",
       "  </tbody>\n",
       "</table>\n",
       "</div>"
      ],
      "text/plain": [
       "       sum_n      av_x     min_y   first_z\n",
       "event                                     \n",
       "0          3 -1.433049  1.086400 -2.062060\n",
       "1         12 -1.173399  1.488775 -1.144081\n",
       "4         16 -1.454015  1.123835 -0.529354"
      ]
     },
     "execution_count": 132,
     "metadata": {},
     "output_type": "execute_result"
    }
   ],
   "source": [
    "groups.aggregate(dict(n=np.sum, x=np.mean, y=\"min\", z=\"first\"))\\\n",
    "      .rename(columns = dict(n = \"sum_n\", x = \"av_x\", y = \"min_y\", z = \"first_z\"))"
   ]
  },
  {
   "cell_type": "markdown",
   "metadata": {},
   "source": [
    "Naturally, you can use your functions. They must take an array (dataframe) and return a scalar (series). Warning, this might be super slow!"
   ]
  },
  {
   "cell_type": "code",
   "execution_count": 158,
   "metadata": {},
   "outputs": [],
   "source": [
    "def weird_function(x):\n",
    "    return -1 if np.sum(x) < -2 else +1"
   ]
  },
  {
   "cell_type": "code",
   "execution_count": 159,
   "metadata": {},
   "outputs": [
    {
     "data": {
      "text/html": [
       "<div>\n",
       "<style scoped>\n",
       "    .dataframe tbody tr th:only-of-type {\n",
       "        vertical-align: middle;\n",
       "    }\n",
       "\n",
       "    .dataframe tbody tr th {\n",
       "        vertical-align: top;\n",
       "    }\n",
       "\n",
       "    .dataframe thead th {\n",
       "        text-align: right;\n",
       "    }\n",
       "</style>\n",
       "<table border=\"1\" class=\"dataframe\">\n",
       "  <thead>\n",
       "    <tr style=\"text-align: right;\">\n",
       "      <th></th>\n",
       "      <th>&lt;lambda&gt;</th>\n",
       "      <th>weird_function</th>\n",
       "      <th>sum</th>\n",
       "    </tr>\n",
       "    <tr>\n",
       "      <th>event</th>\n",
       "      <th></th>\n",
       "      <th></th>\n",
       "      <th></th>\n",
       "    </tr>\n",
       "  </thead>\n",
       "  <tbody>\n",
       "    <tr>\n",
       "      <th>0</th>\n",
       "      <td>3.687145</td>\n",
       "      <td>-1.0</td>\n",
       "      <td>-2.200785</td>\n",
       "    </tr>\n",
       "    <tr>\n",
       "      <th>1</th>\n",
       "      <td>1.074462</td>\n",
       "      <td>1.0</td>\n",
       "      <td>-1.960231</td>\n",
       "    </tr>\n",
       "    <tr>\n",
       "      <th>4</th>\n",
       "      <td>2.718755</td>\n",
       "      <td>-1.0</td>\n",
       "      <td>-2.002245</td>\n",
       "    </tr>\n",
       "  </tbody>\n",
       "</table>\n",
       "</div>"
      ],
      "text/plain": [
       "       <lambda>  weird_function       sum\n",
       "event                                    \n",
       "0      3.687145            -1.0 -2.200785\n",
       "1      1.074462             1.0 -1.960231\n",
       "4      2.718755            -1.0 -2.002245"
      ]
     },
     "execution_count": 159,
     "metadata": {},
     "output_type": "execute_result"
    }
   ],
   "source": [
    "groups.z.aggregate([lambda x: np.max(x) - np.min(x), weird_function, np.sum])"
   ]
  },
  {
   "cell_type": "markdown",
   "metadata": {},
   "source": [
    "This however, creates a problem when we try to add this group-dependent information to the original dataframe:"
   ]
  },
  {
   "cell_type": "code",
   "execution_count": 162,
   "metadata": {},
   "outputs": [
    {
     "data": {
      "text/plain": [
       "(10, 3)"
      ]
     },
     "execution_count": 162,
     "metadata": {},
     "output_type": "execute_result"
    }
   ],
   "source": [
    "sum_n = xyz_df_1.groupby(\"event\").n.aggregate(\"sum\") # same as xyz_df_1.groupby(\"event\").n.sum()\n",
    "xyz_df_1.shape[0], sum_n.shape[0]"
   ]
  },
  {
   "cell_type": "markdown",
   "metadata": {},
   "source": [
    "This can be avoided using transform:"
   ]
  },
  {
   "cell_type": "code",
   "execution_count": 163,
   "metadata": {},
   "outputs": [
    {
     "data": {
      "text/plain": [
       "(10, 10)"
      ]
     },
     "execution_count": 163,
     "metadata": {},
     "output_type": "execute_result"
    }
   ],
   "source": [
    "sum_n = xyz_df_1.groupby(\"event\").n.transform(\"sum\") # same as xyz_df_1.groupby(\"event\").n.sum()\n",
    "xyz_df_1.shape[0], sum_n.shape[0]"
   ]
  },
  {
   "cell_type": "markdown",
   "metadata": {},
   "source": [
    "This way we can add this information to the original dataframe"
   ]
  },
  {
   "cell_type": "code",
   "execution_count": 165,
   "metadata": {},
   "outputs": [],
   "source": [
    "xyz_df_1.loc[:, \"sum_n\"] = xyz_df_1.groupby(\"event\").n.transform(np.sum)"
   ]
  },
  {
   "cell_type": "code",
   "execution_count": 167,
   "metadata": {},
   "outputs": [
    {
     "data": {
      "text/html": [
       "<div>\n",
       "<style scoped>\n",
       "    .dataframe tbody tr th:only-of-type {\n",
       "        vertical-align: middle;\n",
       "    }\n",
       "\n",
       "    .dataframe tbody tr th {\n",
       "        vertical-align: top;\n",
       "    }\n",
       "\n",
       "    .dataframe thead th {\n",
       "        text-align: right;\n",
       "    }\n",
       "</style>\n",
       "<table border=\"1\" class=\"dataframe\">\n",
       "  <thead>\n",
       "    <tr style=\"text-align: right;\">\n",
       "      <th></th>\n",
       "      <th>n</th>\n",
       "      <th>x</th>\n",
       "      <th>y</th>\n",
       "      <th>z</th>\n",
       "      <th>sum_n</th>\n",
       "    </tr>\n",
       "    <tr>\n",
       "      <th>event</th>\n",
       "      <th></th>\n",
       "      <th></th>\n",
       "      <th></th>\n",
       "      <th></th>\n",
       "      <th></th>\n",
       "    </tr>\n",
       "  </thead>\n",
       "  <tbody>\n",
       "    <tr>\n",
       "      <th>0</th>\n",
       "      <td>1</td>\n",
       "      <td>-1.905912</td>\n",
       "      <td>1.546298</td>\n",
       "      <td>-2.062060</td>\n",
       "      <td>3</td>\n",
       "    </tr>\n",
       "    <tr>\n",
       "      <th>0</th>\n",
       "      <td>2</td>\n",
       "      <td>-1.311056</td>\n",
       "      <td>1.805632</td>\n",
       "      <td>1.625085</td>\n",
       "      <td>3</td>\n",
       "    </tr>\n",
       "    <tr>\n",
       "      <th>0</th>\n",
       "      <td>0</td>\n",
       "      <td>-1.082180</td>\n",
       "      <td>1.086400</td>\n",
       "      <td>-1.763810</td>\n",
       "      <td>3</td>\n",
       "    </tr>\n",
       "    <tr>\n",
       "      <th>1</th>\n",
       "      <td>5</td>\n",
       "      <td>-1.298341</td>\n",
       "      <td>1.764000</td>\n",
       "      <td>-1.144081</td>\n",
       "      <td>12</td>\n",
       "    </tr>\n",
       "    <tr>\n",
       "      <th>1</th>\n",
       "      <td>5</td>\n",
       "      <td>-1.167679</td>\n",
       "      <td>1.488775</td>\n",
       "      <td>-0.069619</td>\n",
       "      <td>12</td>\n",
       "    </tr>\n",
       "    <tr>\n",
       "      <th>1</th>\n",
       "      <td>2</td>\n",
       "      <td>-1.054178</td>\n",
       "      <td>1.926256</td>\n",
       "      <td>-0.746532</td>\n",
       "      <td>12</td>\n",
       "    </tr>\n",
       "    <tr>\n",
       "      <th>4</th>\n",
       "      <td>4</td>\n",
       "      <td>-1.890491</td>\n",
       "      <td>1.448601</td>\n",
       "      <td>-0.529354</td>\n",
       "      <td>16</td>\n",
       "    </tr>\n",
       "    <tr>\n",
       "      <th>4</th>\n",
       "      <td>6</td>\n",
       "      <td>-1.196656</td>\n",
       "      <td>1.634814</td>\n",
       "      <td>-1.445950</td>\n",
       "      <td>16</td>\n",
       "    </tr>\n",
       "    <tr>\n",
       "      <th>4</th>\n",
       "      <td>4</td>\n",
       "      <td>-1.716060</td>\n",
       "      <td>1.123835</td>\n",
       "      <td>1.272805</td>\n",
       "      <td>16</td>\n",
       "    </tr>\n",
       "    <tr>\n",
       "      <th>4</th>\n",
       "      <td>2</td>\n",
       "      <td>-1.012853</td>\n",
       "      <td>1.900108</td>\n",
       "      <td>-1.299746</td>\n",
       "      <td>16</td>\n",
       "    </tr>\n",
       "  </tbody>\n",
       "</table>\n",
       "</div>"
      ],
      "text/plain": [
       "       n         x         y         z  sum_n\n",
       "event                                        \n",
       "0      1 -1.905912  1.546298 -2.062060      3\n",
       "0      2 -1.311056  1.805632  1.625085      3\n",
       "0      0 -1.082180  1.086400 -1.763810      3\n",
       "1      5 -1.298341  1.764000 -1.144081     12\n",
       "1      5 -1.167679  1.488775 -0.069619     12\n",
       "1      2 -1.054178  1.926256 -0.746532     12\n",
       "4      4 -1.890491  1.448601 -0.529354     16\n",
       "4      6 -1.196656  1.634814 -1.445950     16\n",
       "4      4 -1.716060  1.123835  1.272805     16\n",
       "4      2 -1.012853  1.900108 -1.299746     16"
      ]
     },
     "execution_count": 167,
     "metadata": {},
     "output_type": "execute_result"
    }
   ],
   "source": [
    "xyz_df_1"
   ]
  },
  {
   "cell_type": "markdown",
   "metadata": {},
   "source": [
    "The function used in transform can either:\n",
    "- Return a single value, in which case, the value is broadcasted to match the size of the group\n",
    "- Return an array of values of the same size of the group. Each value get's assigned to the corresponding entry"
   ]
  },
  {
   "cell_type": "code",
   "execution_count": 168,
   "metadata": {},
   "outputs": [
    {
     "data": {
      "text/plain": [
       "event\n",
       "0    0.000000\n",
       "0    3.687145\n",
       "0    0.298249\n",
       "1    0.000000\n",
       "1    1.074462\n",
       "1    0.397549\n",
       "4    0.916596\n",
       "4    0.000000\n",
       "4    2.718755\n",
       "4    0.146204\n",
       "Name: z, dtype: float64"
      ]
     },
     "execution_count": 168,
     "metadata": {},
     "output_type": "execute_result"
    }
   ],
   "source": [
    "xyz_df_1.groupby(\"event\").z.transform(lambda v: v - v.min())"
   ]
  },
  {
   "cell_type": "markdown",
   "metadata": {},
   "source": [
    "### *** Warning\n",
    "* Using functions that are not \"standard\" increases the execution time. Avoid it whenever possible.\n",
    "* This is because the standard ones are optimized by Cython. If you implement your custom function in cython (or if you cythonize it inline) it should be as fast"
   ]
  },
  {
   "cell_type": "markdown",
   "metadata": {},
   "source": [
    "A good use of this method is to replace NaN values with, for example, the average value of each event.\n",
    "### Exercise N+1: Use `transform` to do so with the following dataframe."
   ]
  },
  {
   "cell_type": "code",
   "execution_count": 320,
   "metadata": {},
   "outputs": [
    {
     "data": {
      "text/html": [
       "<div>\n",
       "<style scoped>\n",
       "    .dataframe tbody tr th:only-of-type {\n",
       "        vertical-align: middle;\n",
       "    }\n",
       "\n",
       "    .dataframe tbody tr th {\n",
       "        vertical-align: top;\n",
       "    }\n",
       "\n",
       "    .dataframe thead th {\n",
       "        text-align: right;\n",
       "    }\n",
       "</style>\n",
       "<table border=\"1\" class=\"dataframe\">\n",
       "  <thead>\n",
       "    <tr style=\"text-align: right;\">\n",
       "      <th></th>\n",
       "      <th>x</th>\n",
       "      <th>y</th>\n",
       "    </tr>\n",
       "  </thead>\n",
       "  <tbody>\n",
       "    <tr>\n",
       "      <th>0</th>\n",
       "      <td>NaN</td>\n",
       "      <td>-0.764006</td>\n",
       "    </tr>\n",
       "    <tr>\n",
       "      <th>0</th>\n",
       "      <td>0.710762</td>\n",
       "      <td>0.841356</td>\n",
       "    </tr>\n",
       "    <tr>\n",
       "      <th>0</th>\n",
       "      <td>-0.738289</td>\n",
       "      <td>0.332039</td>\n",
       "    </tr>\n",
       "    <tr>\n",
       "      <th>0</th>\n",
       "      <td>-0.814058</td>\n",
       "      <td>-0.676908</td>\n",
       "    </tr>\n",
       "    <tr>\n",
       "      <th>1</th>\n",
       "      <td>0.309183</td>\n",
       "      <td>NaN</td>\n",
       "    </tr>\n",
       "    <tr>\n",
       "      <th>1</th>\n",
       "      <td>NaN</td>\n",
       "      <td>0.165469</td>\n",
       "    </tr>\n",
       "    <tr>\n",
       "      <th>1</th>\n",
       "      <td>0.107873</td>\n",
       "      <td>-0.098250</td>\n",
       "    </tr>\n",
       "    <tr>\n",
       "      <th>1</th>\n",
       "      <td>-0.262144</td>\n",
       "      <td>NaN</td>\n",
       "    </tr>\n",
       "    <tr>\n",
       "      <th>2</th>\n",
       "      <td>0.757714</td>\n",
       "      <td>0.290358</td>\n",
       "    </tr>\n",
       "    <tr>\n",
       "      <th>2</th>\n",
       "      <td>-0.952073</td>\n",
       "      <td>-0.743087</td>\n",
       "    </tr>\n",
       "    <tr>\n",
       "      <th>2</th>\n",
       "      <td>NaN</td>\n",
       "      <td>NaN</td>\n",
       "    </tr>\n",
       "    <tr>\n",
       "      <th>2</th>\n",
       "      <td>0.110101</td>\n",
       "      <td>0.168184</td>\n",
       "    </tr>\n",
       "    <tr>\n",
       "      <th>3</th>\n",
       "      <td>-0.522205</td>\n",
       "      <td>NaN</td>\n",
       "    </tr>\n",
       "    <tr>\n",
       "      <th>3</th>\n",
       "      <td>-0.810947</td>\n",
       "      <td>-0.451080</td>\n",
       "    </tr>\n",
       "    <tr>\n",
       "      <th>3</th>\n",
       "      <td>0.009237</td>\n",
       "      <td>-0.748188</td>\n",
       "    </tr>\n",
       "    <tr>\n",
       "      <th>3</th>\n",
       "      <td>NaN</td>\n",
       "      <td>0.454386</td>\n",
       "    </tr>\n",
       "    <tr>\n",
       "      <th>4</th>\n",
       "      <td>0.065898</td>\n",
       "      <td>0.974631</td>\n",
       "    </tr>\n",
       "    <tr>\n",
       "      <th>4</th>\n",
       "      <td>0.530056</td>\n",
       "      <td>0.562239</td>\n",
       "    </tr>\n",
       "    <tr>\n",
       "      <th>4</th>\n",
       "      <td>0.923338</td>\n",
       "      <td>-0.507810</td>\n",
       "    </tr>\n",
       "    <tr>\n",
       "      <th>4</th>\n",
       "      <td>-0.296437</td>\n",
       "      <td>0.296692</td>\n",
       "    </tr>\n",
       "  </tbody>\n",
       "</table>\n",
       "</div>"
      ],
      "text/plain": [
       "          x         y\n",
       "0       NaN -0.764006\n",
       "0  0.710762  0.841356\n",
       "0 -0.738289  0.332039\n",
       "0 -0.814058 -0.676908\n",
       "1  0.309183       NaN\n",
       "1       NaN  0.165469\n",
       "1  0.107873 -0.098250\n",
       "1 -0.262144       NaN\n",
       "2  0.757714  0.290358\n",
       "2 -0.952073 -0.743087\n",
       "2       NaN       NaN\n",
       "2  0.110101  0.168184\n",
       "3 -0.522205       NaN\n",
       "3 -0.810947 -0.451080\n",
       "3  0.009237 -0.748188\n",
       "3       NaN  0.454386\n",
       "4  0.065898  0.974631\n",
       "4  0.530056  0.562239\n",
       "4  0.923338 -0.507810\n",
       "4 -0.296437  0.296692"
      ]
     },
     "execution_count": 320,
     "metadata": {},
     "output_type": "execute_result"
    }
   ],
   "source": [
    "event = np.repeat(np.arange(5), 4)\n",
    "x     = np.random.uniform(-1, 1, 20)\n",
    "y     = np.random.uniform(-1, 1, 20)\n",
    "x[[0, 5, 10, 15]] = np.nan\n",
    "y[[4, 7, 10, 12]] = np.nan\n",
    "df_with_nans = pd.DataFrame(dict(x=x, y=y), index=event)\n",
    "df_with_nans"
   ]
  },
  {
   "cell_type": "code",
   "execution_count": null,
   "metadata": {},
   "outputs": [],
   "source": []
  },
  {
   "cell_type": "markdown",
   "metadata": {},
   "source": [
    "# Filtering groups"
   ]
  },
  {
   "cell_type": "code",
   "execution_count": 169,
   "metadata": {},
   "outputs": [
    {
     "data": {
      "text/html": [
       "<div>\n",
       "<style scoped>\n",
       "    .dataframe tbody tr th:only-of-type {\n",
       "        vertical-align: middle;\n",
       "    }\n",
       "\n",
       "    .dataframe tbody tr th {\n",
       "        vertical-align: top;\n",
       "    }\n",
       "\n",
       "    .dataframe thead th {\n",
       "        text-align: right;\n",
       "    }\n",
       "</style>\n",
       "<table border=\"1\" class=\"dataframe\">\n",
       "  <thead>\n",
       "    <tr style=\"text-align: right;\">\n",
       "      <th></th>\n",
       "      <th>n</th>\n",
       "      <th>x</th>\n",
       "      <th>y</th>\n",
       "      <th>z</th>\n",
       "      <th>sum_n</th>\n",
       "    </tr>\n",
       "    <tr>\n",
       "      <th>event</th>\n",
       "      <th></th>\n",
       "      <th></th>\n",
       "      <th></th>\n",
       "      <th></th>\n",
       "      <th></th>\n",
       "    </tr>\n",
       "  </thead>\n",
       "  <tbody>\n",
       "    <tr>\n",
       "      <th>0</th>\n",
       "      <td>1</td>\n",
       "      <td>-1.905912</td>\n",
       "      <td>1.546298</td>\n",
       "      <td>-2.062060</td>\n",
       "      <td>3</td>\n",
       "    </tr>\n",
       "    <tr>\n",
       "      <th>0</th>\n",
       "      <td>2</td>\n",
       "      <td>-1.311056</td>\n",
       "      <td>1.805632</td>\n",
       "      <td>1.625085</td>\n",
       "      <td>3</td>\n",
       "    </tr>\n",
       "    <tr>\n",
       "      <th>0</th>\n",
       "      <td>0</td>\n",
       "      <td>-1.082180</td>\n",
       "      <td>1.086400</td>\n",
       "      <td>-1.763810</td>\n",
       "      <td>3</td>\n",
       "    </tr>\n",
       "    <tr>\n",
       "      <th>1</th>\n",
       "      <td>5</td>\n",
       "      <td>-1.298341</td>\n",
       "      <td>1.764000</td>\n",
       "      <td>-1.144081</td>\n",
       "      <td>12</td>\n",
       "    </tr>\n",
       "    <tr>\n",
       "      <th>1</th>\n",
       "      <td>5</td>\n",
       "      <td>-1.167679</td>\n",
       "      <td>1.488775</td>\n",
       "      <td>-0.069619</td>\n",
       "      <td>12</td>\n",
       "    </tr>\n",
       "    <tr>\n",
       "      <th>1</th>\n",
       "      <td>2</td>\n",
       "      <td>-1.054178</td>\n",
       "      <td>1.926256</td>\n",
       "      <td>-0.746532</td>\n",
       "      <td>12</td>\n",
       "    </tr>\n",
       "    <tr>\n",
       "      <th>4</th>\n",
       "      <td>4</td>\n",
       "      <td>-1.890491</td>\n",
       "      <td>1.448601</td>\n",
       "      <td>-0.529354</td>\n",
       "      <td>16</td>\n",
       "    </tr>\n",
       "    <tr>\n",
       "      <th>4</th>\n",
       "      <td>6</td>\n",
       "      <td>-1.196656</td>\n",
       "      <td>1.634814</td>\n",
       "      <td>-1.445950</td>\n",
       "      <td>16</td>\n",
       "    </tr>\n",
       "    <tr>\n",
       "      <th>4</th>\n",
       "      <td>4</td>\n",
       "      <td>-1.716060</td>\n",
       "      <td>1.123835</td>\n",
       "      <td>1.272805</td>\n",
       "      <td>16</td>\n",
       "    </tr>\n",
       "    <tr>\n",
       "      <th>4</th>\n",
       "      <td>2</td>\n",
       "      <td>-1.012853</td>\n",
       "      <td>1.900108</td>\n",
       "      <td>-1.299746</td>\n",
       "      <td>16</td>\n",
       "    </tr>\n",
       "  </tbody>\n",
       "</table>\n",
       "</div>"
      ],
      "text/plain": [
       "       n         x         y         z  sum_n\n",
       "event                                        \n",
       "0      1 -1.905912  1.546298 -2.062060      3\n",
       "0      2 -1.311056  1.805632  1.625085      3\n",
       "0      0 -1.082180  1.086400 -1.763810      3\n",
       "1      5 -1.298341  1.764000 -1.144081     12\n",
       "1      5 -1.167679  1.488775 -0.069619     12\n",
       "1      2 -1.054178  1.926256 -0.746532     12\n",
       "4      4 -1.890491  1.448601 -0.529354     16\n",
       "4      6 -1.196656  1.634814 -1.445950     16\n",
       "4      4 -1.716060  1.123835  1.272805     16\n",
       "4      2 -1.012853  1.900108 -1.299746     16"
      ]
     },
     "execution_count": 169,
     "metadata": {},
     "output_type": "execute_result"
    }
   ],
   "source": [
    "xyz_df_1.groupby(\"event\").filter(lambda g: np.any(g.z) > 0)\n",
    "# produces a new df by concatenating the groups that satisfy the condition concatenated"
   ]
  },
  {
   "cell_type": "markdown",
   "metadata": {},
   "source": [
    "# Apply / applymap / map"
   ]
  },
  {
   "cell_type": "markdown",
   "metadata": {},
   "source": [
    "- `apply` is used to generate new values from a dataframe from a function column- or row-wise. The function may or may not reduce the data\n",
    "- `applymap` same but element-wise. It cannot reduce the data\n",
    "- `map` is used to translate values"
   ]
  },
  {
   "cell_type": "code",
   "execution_count": 178,
   "metadata": {},
   "outputs": [
    {
     "data": {
      "text/plain": [
       "n        11.445523\n",
       "x         4.433916\n",
       "y         5.051207\n",
       "z         4.189923\n",
       "sum_n    38.509739\n",
       "dtype: float64"
      ]
     },
     "execution_count": 178,
     "metadata": {},
     "output_type": "execute_result"
    }
   ],
   "source": [
    "xyz_df_1.apply(lambda x: np.sqrt(np.sum(x**2)), axis=0) # default"
   ]
  },
  {
   "cell_type": "code",
   "execution_count": 179,
   "metadata": {},
   "outputs": [
    {
     "data": {
      "text/plain": [
       "event\n",
       "0     4.502847\n",
       "0     4.540933\n",
       "0     3.802947\n",
       "1    13.232774\n",
       "1    13.137152\n",
       "1    12.384630\n",
       "4    16.671911\n",
       "4    17.268334\n",
       "4    16.668170\n",
       "4    16.319486\n",
       "dtype: float64"
      ]
     },
     "execution_count": 179,
     "metadata": {},
     "output_type": "execute_result"
    }
   ],
   "source": [
    "xyz_df_1.apply(lambda x: np.sqrt(np.sum(x**2)), axis=1)"
   ]
  },
  {
   "cell_type": "code",
   "execution_count": 181,
   "metadata": {},
   "outputs": [
    {
     "data": {
      "text/html": [
       "<div>\n",
       "<style scoped>\n",
       "    .dataframe tbody tr th:only-of-type {\n",
       "        vertical-align: middle;\n",
       "    }\n",
       "\n",
       "    .dataframe tbody tr th {\n",
       "        vertical-align: top;\n",
       "    }\n",
       "\n",
       "    .dataframe thead th {\n",
       "        text-align: right;\n",
       "    }\n",
       "</style>\n",
       "<table border=\"1\" class=\"dataframe\">\n",
       "  <thead>\n",
       "    <tr style=\"text-align: right;\">\n",
       "      <th></th>\n",
       "      <th>n</th>\n",
       "      <th>x</th>\n",
       "      <th>y</th>\n",
       "      <th>z</th>\n",
       "      <th>sum_n</th>\n",
       "    </tr>\n",
       "    <tr>\n",
       "      <th>event</th>\n",
       "      <th></th>\n",
       "      <th></th>\n",
       "      <th></th>\n",
       "      <th></th>\n",
       "      <th></th>\n",
       "    </tr>\n",
       "  </thead>\n",
       "  <tbody>\n",
       "    <tr>\n",
       "      <th>0</th>\n",
       "      <td>1.000000</td>\n",
       "      <td>1.380548</td>\n",
       "      <td>1.243502</td>\n",
       "      <td>1.435987</td>\n",
       "      <td>1.732051</td>\n",
       "    </tr>\n",
       "    <tr>\n",
       "      <th>0</th>\n",
       "      <td>1.414214</td>\n",
       "      <td>1.145013</td>\n",
       "      <td>1.343738</td>\n",
       "      <td>1.274788</td>\n",
       "      <td>1.732051</td>\n",
       "    </tr>\n",
       "    <tr>\n",
       "      <th>0</th>\n",
       "      <td>0.000000</td>\n",
       "      <td>1.040279</td>\n",
       "      <td>1.042305</td>\n",
       "      <td>1.328085</td>\n",
       "      <td>1.732051</td>\n",
       "    </tr>\n",
       "    <tr>\n",
       "      <th>1</th>\n",
       "      <td>2.236068</td>\n",
       "      <td>1.139447</td>\n",
       "      <td>1.328157</td>\n",
       "      <td>1.069617</td>\n",
       "      <td>3.464102</td>\n",
       "    </tr>\n",
       "    <tr>\n",
       "      <th>1</th>\n",
       "      <td>2.236068</td>\n",
       "      <td>1.080592</td>\n",
       "      <td>1.220154</td>\n",
       "      <td>0.263853</td>\n",
       "      <td>3.464102</td>\n",
       "    </tr>\n",
       "    <tr>\n",
       "      <th>1</th>\n",
       "      <td>1.414214</td>\n",
       "      <td>1.026732</td>\n",
       "      <td>1.387896</td>\n",
       "      <td>0.864021</td>\n",
       "      <td>3.464102</td>\n",
       "    </tr>\n",
       "    <tr>\n",
       "      <th>4</th>\n",
       "      <td>2.000000</td>\n",
       "      <td>1.374951</td>\n",
       "      <td>1.203578</td>\n",
       "      <td>0.727567</td>\n",
       "      <td>4.000000</td>\n",
       "    </tr>\n",
       "    <tr>\n",
       "      <th>4</th>\n",
       "      <td>2.449490</td>\n",
       "      <td>1.093918</td>\n",
       "      <td>1.278598</td>\n",
       "      <td>1.202477</td>\n",
       "      <td>4.000000</td>\n",
       "    </tr>\n",
       "    <tr>\n",
       "      <th>4</th>\n",
       "      <td>2.000000</td>\n",
       "      <td>1.309985</td>\n",
       "      <td>1.060111</td>\n",
       "      <td>1.128187</td>\n",
       "      <td>4.000000</td>\n",
       "    </tr>\n",
       "    <tr>\n",
       "      <th>4</th>\n",
       "      <td>1.414214</td>\n",
       "      <td>1.006406</td>\n",
       "      <td>1.378444</td>\n",
       "      <td>1.140064</td>\n",
       "      <td>4.000000</td>\n",
       "    </tr>\n",
       "  </tbody>\n",
       "</table>\n",
       "</div>"
      ],
      "text/plain": [
       "              n         x         y         z     sum_n\n",
       "event                                                  \n",
       "0      1.000000  1.380548  1.243502  1.435987  1.732051\n",
       "0      1.414214  1.145013  1.343738  1.274788  1.732051\n",
       "0      0.000000  1.040279  1.042305  1.328085  1.732051\n",
       "1      2.236068  1.139447  1.328157  1.069617  3.464102\n",
       "1      2.236068  1.080592  1.220154  0.263853  3.464102\n",
       "1      1.414214  1.026732  1.387896  0.864021  3.464102\n",
       "4      2.000000  1.374951  1.203578  0.727567  4.000000\n",
       "4      2.449490  1.093918  1.278598  1.202477  4.000000\n",
       "4      2.000000  1.309985  1.060111  1.128187  4.000000\n",
       "4      1.414214  1.006406  1.378444  1.140064  4.000000"
      ]
     },
     "execution_count": 181,
     "metadata": {},
     "output_type": "execute_result"
    }
   ],
   "source": [
    "xyz_df_1.applymap(lambda x: np.sqrt(np.abs(x)))"
   ]
  },
  {
   "cell_type": "code",
   "execution_count": 191,
   "metadata": {},
   "outputs": [
    {
     "data": {
      "text/html": [
       "<div>\n",
       "<style scoped>\n",
       "    .dataframe tbody tr th:only-of-type {\n",
       "        vertical-align: middle;\n",
       "    }\n",
       "\n",
       "    .dataframe tbody tr th {\n",
       "        vertical-align: top;\n",
       "    }\n",
       "\n",
       "    .dataframe thead th {\n",
       "        text-align: right;\n",
       "    }\n",
       "</style>\n",
       "<table border=\"1\" class=\"dataframe\">\n",
       "  <thead>\n",
       "    <tr style=\"text-align: right;\">\n",
       "      <th></th>\n",
       "      <th>n</th>\n",
       "    </tr>\n",
       "    <tr>\n",
       "      <th>event</th>\n",
       "      <th></th>\n",
       "    </tr>\n",
       "  </thead>\n",
       "  <tbody>\n",
       "    <tr>\n",
       "      <th>0</th>\n",
       "      <td>10.000000</td>\n",
       "    </tr>\n",
       "    <tr>\n",
       "      <th>0</th>\n",
       "      <td>3.141593</td>\n",
       "    </tr>\n",
       "    <tr>\n",
       "      <th>0</th>\n",
       "      <td>-1.000000</td>\n",
       "    </tr>\n",
       "    <tr>\n",
       "      <th>1</th>\n",
       "      <td>1000.000000</td>\n",
       "    </tr>\n",
       "    <tr>\n",
       "      <th>1</th>\n",
       "      <td>1000.000000</td>\n",
       "    </tr>\n",
       "    <tr>\n",
       "      <th>1</th>\n",
       "      <td>3.141593</td>\n",
       "    </tr>\n",
       "    <tr>\n",
       "      <th>4</th>\n",
       "      <td>123.000000</td>\n",
       "    </tr>\n",
       "    <tr>\n",
       "      <th>4</th>\n",
       "      <td>NaN</td>\n",
       "    </tr>\n",
       "    <tr>\n",
       "      <th>4</th>\n",
       "      <td>123.000000</td>\n",
       "    </tr>\n",
       "    <tr>\n",
       "      <th>4</th>\n",
       "      <td>3.141593</td>\n",
       "    </tr>\n",
       "  </tbody>\n",
       "</table>\n",
       "</div>"
      ],
      "text/plain": [
       "                 n\n",
       "event             \n",
       "0        10.000000\n",
       "0         3.141593\n",
       "0        -1.000000\n",
       "1      1000.000000\n",
       "1      1000.000000\n",
       "1         3.141593\n",
       "4       123.000000\n",
       "4              NaN\n",
       "4       123.000000\n",
       "4         3.141593"
      ]
     },
     "execution_count": 191,
     "metadata": {},
     "output_type": "execute_result"
    }
   ],
   "source": [
    "mapping = {0: -1, 1: 10, 2: np.pi, 3: 44, 4:123, 5:1e3} # Missing values go missing!\n",
    "xyz_df_1.loc[:, [\"n\"]].applymap(mapping.get) # Notice the list in `loc`: If forces the result to be a dataframe"
   ]
  },
  {
   "cell_type": "code",
   "execution_count": 192,
   "metadata": {},
   "outputs": [
    {
     "data": {
      "text/plain": [
       "event\n",
       "0      10.000000\n",
       "0       3.141593\n",
       "0      -1.000000\n",
       "1    1000.000000\n",
       "1    1000.000000\n",
       "1       3.141593\n",
       "4     123.000000\n",
       "4            NaN\n",
       "4     123.000000\n",
       "4       3.141593\n",
       "Name: n, dtype: float64"
      ]
     },
     "execution_count": 192,
     "metadata": {},
     "output_type": "execute_result"
    }
   ],
   "source": [
    "mapping = {0: -1, 1: 10, 2: np.pi, 3: 44, 4:123, 5:1e3}\n",
    "xyz_df_1.n.map(mapping)"
   ]
  },
  {
   "cell_type": "code",
   "execution_count": 193,
   "metadata": {},
   "outputs": [
    {
     "data": {
      "text/plain": [
       "event\n",
       "0    0.000000\n",
       "0    3.687145\n",
       "0    0.298249\n",
       "1    0.917979\n",
       "1    1.992441\n",
       "1    1.315528\n",
       "4    1.532706\n",
       "4    0.616110\n",
       "4    3.334865\n",
       "4    0.762313\n",
       "Name: z, dtype: float64"
      ]
     },
     "execution_count": 193,
     "metadata": {},
     "output_type": "execute_result"
    }
   ],
   "source": [
    "min_z = xyz_df_1.z.min()\n",
    "xyz_df_1.z.map(lambda zz: zz - min_z)"
   ]
  },
  {
   "cell_type": "markdown",
   "metadata": {},
   "source": [
    "### Exercise: create a dataframe with the average position of each event in XYZ. Then compute the R and Phi positions of these average values."
   ]
  },
  {
   "cell_type": "code",
   "execution_count": null,
   "metadata": {},
   "outputs": [],
   "source": []
  },
  {
   "cell_type": "markdown",
   "metadata": {},
   "source": [
    "### Exercise N+3: Repeat the previous exercise but adding those values to the original df"
   ]
  },
  {
   "cell_type": "code",
   "execution_count": null,
   "metadata": {},
   "outputs": [],
   "source": []
  },
  {
   "cell_type": "code",
   "execution_count": 3,
   "metadata": {},
   "outputs": [],
   "source": [
    "filename = \"/media/gonzalo/Gonzalo128/data/NEXT/ECEC/bkg/kdst_7007_v0.9.9_20190111_krbg.h5\"\n",
    "df = load_dst(filename, \"DST\", \"Events\")\n",
    "del df[\"index\"] # ignore this\n",
    "df = df.set_index(\"event\")"
   ]
  },
  {
   "cell_type": "code",
   "execution_count": 4,
   "metadata": {},
   "outputs": [
    {
     "data": {
      "text/html": [
       "<div>\n",
       "<style scoped>\n",
       "    .dataframe tbody tr th:only-of-type {\n",
       "        vertical-align: middle;\n",
       "    }\n",
       "\n",
       "    .dataframe tbody tr th {\n",
       "        vertical-align: top;\n",
       "    }\n",
       "\n",
       "    .dataframe thead th {\n",
       "        text-align: right;\n",
       "    }\n",
       "</style>\n",
       "<table border=\"1\" class=\"dataframe\">\n",
       "  <thead>\n",
       "    <tr style=\"text-align: right;\">\n",
       "      <th></th>\n",
       "      <th>time</th>\n",
       "      <th>s1_peak</th>\n",
       "      <th>s2_peak</th>\n",
       "      <th>nS1</th>\n",
       "      <th>nS2</th>\n",
       "      <th>S1w</th>\n",
       "      <th>S1h</th>\n",
       "      <th>S1e</th>\n",
       "      <th>S1t</th>\n",
       "      <th>S2w</th>\n",
       "      <th>S2h</th>\n",
       "      <th>S2e</th>\n",
       "      <th>S2q</th>\n",
       "      <th>S2t</th>\n",
       "      <th>Nsipm</th>\n",
       "      <th>DT</th>\n",
       "      <th>Z</th>\n",
       "      <th>Zrms</th>\n",
       "      <th>X</th>\n",
       "      <th>Y</th>\n",
       "      <th>R</th>\n",
       "      <th>Phi</th>\n",
       "      <th>Xrms</th>\n",
       "      <th>Yrms</th>\n",
       "    </tr>\n",
       "    <tr>\n",
       "      <th>event</th>\n",
       "      <th></th>\n",
       "      <th></th>\n",
       "      <th></th>\n",
       "      <th></th>\n",
       "      <th></th>\n",
       "      <th></th>\n",
       "      <th></th>\n",
       "      <th></th>\n",
       "      <th></th>\n",
       "      <th></th>\n",
       "      <th></th>\n",
       "      <th></th>\n",
       "      <th></th>\n",
       "      <th></th>\n",
       "      <th></th>\n",
       "      <th></th>\n",
       "      <th></th>\n",
       "      <th></th>\n",
       "      <th></th>\n",
       "      <th></th>\n",
       "      <th></th>\n",
       "      <th></th>\n",
       "      <th></th>\n",
       "      <th></th>\n",
       "    </tr>\n",
       "  </thead>\n",
       "  <tbody>\n",
       "    <tr>\n",
       "      <th>1</th>\n",
       "      <td>1.552678e+09</td>\n",
       "      <td>0</td>\n",
       "      <td>0</td>\n",
       "      <td>1</td>\n",
       "      <td>1</td>\n",
       "      <td>125.0</td>\n",
       "      <td>1.774422</td>\n",
       "      <td>7.576289</td>\n",
       "      <td>502700.0</td>\n",
       "      <td>11.064375</td>\n",
       "      <td>2686.332764</td>\n",
       "      <td>11572.243164</td>\n",
       "      <td>566.591492</td>\n",
       "      <td>803508.1875</td>\n",
       "      <td>20</td>\n",
       "      <td>300.808197</td>\n",
       "      <td>300.808197</td>\n",
       "      <td>1.813417</td>\n",
       "      <td>-27.476126</td>\n",
       "      <td>10.951459</td>\n",
       "      <td>29.578234</td>\n",
       "      <td>2.762310</td>\n",
       "      <td>9.530958</td>\n",
       "      <td>8.647540</td>\n",
       "    </tr>\n",
       "    <tr>\n",
       "      <th>2</th>\n",
       "      <td>1.552678e+09</td>\n",
       "      <td>0</td>\n",
       "      <td>0</td>\n",
       "      <td>1</td>\n",
       "      <td>1</td>\n",
       "      <td>100.0</td>\n",
       "      <td>2.559768</td>\n",
       "      <td>9.263117</td>\n",
       "      <td>478700.0</td>\n",
       "      <td>8.486187</td>\n",
       "      <td>1593.130615</td>\n",
       "      <td>7850.166504</td>\n",
       "      <td>541.770203</td>\n",
       "      <td>804457.4375</td>\n",
       "      <td>19</td>\n",
       "      <td>325.757446</td>\n",
       "      <td>325.757446</td>\n",
       "      <td>1.750181</td>\n",
       "      <td>-124.831268</td>\n",
       "      <td>132.160096</td>\n",
       "      <td>181.794214</td>\n",
       "      <td>2.327684</td>\n",
       "      <td>9.003013</td>\n",
       "      <td>11.001643</td>\n",
       "    </tr>\n",
       "    <tr>\n",
       "      <th>3</th>\n",
       "      <td>1.552678e+09</td>\n",
       "      <td>0</td>\n",
       "      <td>0</td>\n",
       "      <td>1</td>\n",
       "      <td>1</td>\n",
       "      <td>250.0</td>\n",
       "      <td>2.215708</td>\n",
       "      <td>15.651625</td>\n",
       "      <td>269475.0</td>\n",
       "      <td>11.587750</td>\n",
       "      <td>1510.953125</td>\n",
       "      <td>9105.055664</td>\n",
       "      <td>510.414062</td>\n",
       "      <td>804482.1875</td>\n",
       "      <td>24</td>\n",
       "      <td>535.007202</td>\n",
       "      <td>535.007202</td>\n",
       "      <td>2.320408</td>\n",
       "      <td>-104.239397</td>\n",
       "      <td>98.463828</td>\n",
       "      <td>143.390994</td>\n",
       "      <td>2.384680</td>\n",
       "      <td>47.137182</td>\n",
       "      <td>10.637314</td>\n",
       "    </tr>\n",
       "    <tr>\n",
       "      <th>4</th>\n",
       "      <td>1.552678e+09</td>\n",
       "      <td>0</td>\n",
       "      <td>0</td>\n",
       "      <td>1</td>\n",
       "      <td>1</td>\n",
       "      <td>175.0</td>\n",
       "      <td>2.297016</td>\n",
       "      <td>11.651054</td>\n",
       "      <td>651150.0</td>\n",
       "      <td>8.495313</td>\n",
       "      <td>3248.440918</td>\n",
       "      <td>11202.635742</td>\n",
       "      <td>441.862854</td>\n",
       "      <td>802498.1875</td>\n",
       "      <td>17</td>\n",
       "      <td>151.348190</td>\n",
       "      <td>151.348190</td>\n",
       "      <td>1.298515</td>\n",
       "      <td>20.492885</td>\n",
       "      <td>76.523417</td>\n",
       "      <td>79.219895</td>\n",
       "      <td>1.309137</td>\n",
       "      <td>14.150762</td>\n",
       "      <td>9.548707</td>\n",
       "    </tr>\n",
       "    <tr>\n",
       "      <th>5</th>\n",
       "      <td>1.552678e+09</td>\n",
       "      <td>0</td>\n",
       "      <td>0</td>\n",
       "      <td>1</td>\n",
       "      <td>1</td>\n",
       "      <td>100.0</td>\n",
       "      <td>2.306077</td>\n",
       "      <td>7.938650</td>\n",
       "      <td>228675.0</td>\n",
       "      <td>11.723500</td>\n",
       "      <td>1687.497314</td>\n",
       "      <td>10303.931641</td>\n",
       "      <td>412.642578</td>\n",
       "      <td>805454.6875</td>\n",
       "      <td>20</td>\n",
       "      <td>576.779724</td>\n",
       "      <td>576.779724</td>\n",
       "      <td>2.358667</td>\n",
       "      <td>60.590331</td>\n",
       "      <td>-0.247818</td>\n",
       "      <td>60.590838</td>\n",
       "      <td>-0.004090</td>\n",
       "      <td>14.589671</td>\n",
       "      <td>20.130034</td>\n",
       "    </tr>\n",
       "  </tbody>\n",
       "</table>\n",
       "</div>"
      ],
      "text/plain": [
       "               time  s1_peak  s2_peak  nS1  nS2    S1w       S1h        S1e  \\\n",
       "event                                                                         \n",
       "1      1.552678e+09        0        0    1    1  125.0  1.774422   7.576289   \n",
       "2      1.552678e+09        0        0    1    1  100.0  2.559768   9.263117   \n",
       "3      1.552678e+09        0        0    1    1  250.0  2.215708  15.651625   \n",
       "4      1.552678e+09        0        0    1    1  175.0  2.297016  11.651054   \n",
       "5      1.552678e+09        0        0    1    1  100.0  2.306077   7.938650   \n",
       "\n",
       "            S1t        S2w          S2h           S2e         S2q  \\\n",
       "event                                                               \n",
       "1      502700.0  11.064375  2686.332764  11572.243164  566.591492   \n",
       "2      478700.0   8.486187  1593.130615   7850.166504  541.770203   \n",
       "3      269475.0  11.587750  1510.953125   9105.055664  510.414062   \n",
       "4      651150.0   8.495313  3248.440918  11202.635742  441.862854   \n",
       "5      228675.0  11.723500  1687.497314  10303.931641  412.642578   \n",
       "\n",
       "               S2t  Nsipm          DT           Z      Zrms           X  \\\n",
       "event                                                                     \n",
       "1      803508.1875     20  300.808197  300.808197  1.813417  -27.476126   \n",
       "2      804457.4375     19  325.757446  325.757446  1.750181 -124.831268   \n",
       "3      804482.1875     24  535.007202  535.007202  2.320408 -104.239397   \n",
       "4      802498.1875     17  151.348190  151.348190  1.298515   20.492885   \n",
       "5      805454.6875     20  576.779724  576.779724  2.358667   60.590331   \n",
       "\n",
       "                Y           R       Phi       Xrms       Yrms  \n",
       "event                                                          \n",
       "1       10.951459   29.578234  2.762310   9.530958   8.647540  \n",
       "2      132.160096  181.794214  2.327684   9.003013  11.001643  \n",
       "3       98.463828  143.390994  2.384680  47.137182  10.637314  \n",
       "4       76.523417   79.219895  1.309137  14.150762   9.548707  \n",
       "5       -0.247818   60.590838 -0.004090  14.589671  20.130034  "
      ]
     },
     "execution_count": 4,
     "metadata": {},
     "output_type": "execute_result"
    }
   ],
   "source": [
    "df.head()"
   ]
  },
  {
   "cell_type": "code",
   "execution_count": 5,
   "metadata": {},
   "outputs": [],
   "source": [
    "series = df.S2w.copy()"
   ]
  },
  {
   "cell_type": "code",
   "execution_count": 6,
   "metadata": {},
   "outputs": [
    {
     "data": {
      "text/plain": [
       "event\n",
       "1    11.064375\n",
       "2     8.486187\n",
       "3    11.587750\n",
       "4     8.495313\n",
       "5    11.723500\n",
       "Name: S2w, dtype: float64"
      ]
     },
     "execution_count": 6,
     "metadata": {},
     "output_type": "execute_result"
    }
   ],
   "source": [
    "series.head()"
   ]
  }
 ],
 "metadata": {
  "kernelspec": {
   "display_name": "Python 3",
   "language": "python",
   "name": "python3"
  },
  "language_info": {
   "codemirror_mode": {
    "name": "ipython",
    "version": 3
   },
   "file_extension": ".py",
   "mimetype": "text/x-python",
   "name": "python",
   "nbconvert_exporter": "python",
   "pygments_lexer": "ipython3",
   "version": "3.7.5"
  }
 },
 "nbformat": 4,
 "nbformat_minor": 2
}
